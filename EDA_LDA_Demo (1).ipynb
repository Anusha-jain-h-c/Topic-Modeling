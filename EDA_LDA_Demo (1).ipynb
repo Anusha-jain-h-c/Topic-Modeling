{
 "cells": [
  {
   "cell_type": "markdown",
   "metadata": {},
   "source": [
    "***\n",
    "In this notebook i will be demonstarting Latent Dirichlet Allocation(LDA) for topic modelling. I will be using the Amazon fine food reviews dataset from Kaggle(https://www.kaggle.com/snap/amazon-fine-food-reviews) for performing LDA based topic modelling\n",
    "I will be using the gensim package for LDA topic modelling and pyLDAvis for visualization of LDA topic model\n",
    "***"
   ]
  },
  {
   "cell_type": "code",
   "execution_count": 7,
   "metadata": {},
   "outputs": [],
   "source": [
    "import pandas as pd\n",
    "import numpy as np\n",
    "\n",
    "import re\n",
    "import string\n",
    "\n",
    "import spacy\n",
    "\n",
    "import gensim\n",
    "from gensim import corpora\n",
    "\n",
    "# libraries for visualization\n",
    "import pyLDAvis\n",
    "import pyLDAvis.gensim\n",
    "import matplotlib.pyplot as plt\n",
    "import seaborn as sns\n",
    "%matplotlib inline"
   ]
  },
  {
   "cell_type": "code",
   "execution_count": 2,
   "metadata": {},
   "outputs": [
    {
     "name": "stdout",
     "output_type": "stream",
     "text": [
      "Collecting spacy\n",
      "  Downloading spacy-3.0.6-cp38-cp38-win_amd64.whl (11.9 MB)\n",
      "Requirement already satisfied: tqdm<5.0.0,>=4.38.0 in c:\\users\\ashish yenkar\\anaconda3\\lib\\site-packages (from spacy) (4.59.0)\n",
      "Collecting thinc<8.1.0,>=8.0.3\n",
      "  Downloading thinc-8.0.6-cp38-cp38-win_amd64.whl (1.0 MB)\n",
      "Requirement already satisfied: numpy>=1.15.0 in c:\\users\\ashish yenkar\\anaconda3\\lib\\site-packages (from spacy) (1.20.1)\n",
      "Collecting wasabi<1.1.0,>=0.8.1\n",
      "  Downloading wasabi-0.8.2-py3-none-any.whl (23 kB)\n",
      "Collecting cymem<2.1.0,>=2.0.2\n",
      "  Downloading cymem-2.0.5-cp38-cp38-win_amd64.whl (36 kB)\n",
      "Collecting srsly<3.0.0,>=2.4.1\n",
      "  Downloading srsly-2.4.1-cp38-cp38-win_amd64.whl (451 kB)\n",
      "Collecting blis<0.8.0,>=0.4.0\n",
      "  Downloading blis-0.7.4-cp38-cp38-win_amd64.whl (6.5 MB)\n",
      "Collecting spacy-legacy<3.1.0,>=3.0.4\n",
      "  Downloading spacy_legacy-3.0.6-py2.py3-none-any.whl (12 kB)\n",
      "Collecting preshed<3.1.0,>=3.0.2\n",
      "  Downloading preshed-3.0.5-cp38-cp38-win_amd64.whl (112 kB)\n",
      "Collecting pathy>=0.3.5\n",
      "  Downloading pathy-0.6.0-py3-none-any.whl (42 kB)\n",
      "Requirement already satisfied: requests<3.0.0,>=2.13.0 in c:\\users\\ashish yenkar\\anaconda3\\lib\\site-packages (from spacy) (2.25.1)\n",
      "Collecting typer<0.4.0,>=0.3.0\n",
      "  Downloading typer-0.3.2-py3-none-any.whl (21 kB)\n",
      "Requirement already satisfied: jinja2 in c:\\users\\ashish yenkar\\anaconda3\\lib\\site-packages (from spacy) (2.11.3)\n",
      "Requirement already satisfied: packaging>=20.0 in c:\\users\\ashish yenkar\\anaconda3\\lib\\site-packages (from spacy) (20.9)\n",
      "Collecting catalogue<2.1.0,>=2.0.3\n",
      "  Downloading catalogue-2.0.4-py3-none-any.whl (16 kB)\n",
      "Collecting pydantic<1.8.0,>=1.7.1\n",
      "  Downloading pydantic-1.7.4-cp38-cp38-win_amd64.whl (1.8 MB)\n",
      "Collecting murmurhash<1.1.0,>=0.28.0\n",
      "  Downloading murmurhash-1.0.5-cp38-cp38-win_amd64.whl (21 kB)\n",
      "Requirement already satisfied: setuptools in c:\\users\\ashish yenkar\\anaconda3\\lib\\site-packages (from spacy) (52.0.0.post20210125)\n",
      "Requirement already satisfied: pyparsing>=2.0.2 in c:\\users\\ashish yenkar\\anaconda3\\lib\\site-packages (from packaging>=20.0->spacy) (2.4.7)\n",
      "Collecting smart-open<6.0.0,>=5.0.0\n",
      "  Downloading smart_open-5.1.0-py3-none-any.whl (57 kB)\n",
      "Requirement already satisfied: urllib3<1.27,>=1.21.1 in c:\\users\\ashish yenkar\\anaconda3\\lib\\site-packages (from requests<3.0.0,>=2.13.0->spacy) (1.26.4)\n",
      "Requirement already satisfied: certifi>=2017.4.17 in c:\\users\\ashish yenkar\\anaconda3\\lib\\site-packages (from requests<3.0.0,>=2.13.0->spacy) (2020.12.5)\n",
      "Requirement already satisfied: idna<3,>=2.5 in c:\\users\\ashish yenkar\\anaconda3\\lib\\site-packages (from requests<3.0.0,>=2.13.0->spacy) (2.10)\n",
      "Requirement already satisfied: chardet<5,>=3.0.2 in c:\\users\\ashish yenkar\\anaconda3\\lib\\site-packages (from requests<3.0.0,>=2.13.0->spacy) (4.0.0)\n",
      "Requirement already satisfied: click<7.2.0,>=7.1.1 in c:\\users\\ashish yenkar\\anaconda3\\lib\\site-packages (from typer<0.4.0,>=0.3.0->spacy) (7.1.2)\n",
      "Requirement already satisfied: MarkupSafe>=0.23 in c:\\users\\ashish yenkar\\anaconda3\\lib\\site-packages (from jinja2->spacy) (1.1.1)\n",
      "Installing collected packages: murmurhash, cymem, catalogue, wasabi, typer, srsly, smart-open, pydantic, preshed, blis, thinc, spacy-legacy, pathy, spacy\n",
      "Successfully installed blis-0.7.4 catalogue-2.0.4 cymem-2.0.5 murmurhash-1.0.5 pathy-0.6.0 preshed-3.0.5 pydantic-1.7.4 smart-open-5.1.0 spacy-3.0.6 spacy-legacy-3.0.6 srsly-2.4.1 thinc-8.0.6 typer-0.3.2 wasabi-0.8.2\n"
     ]
    }
   ],
   "source": [
    "!pip install spacy"
   ]
  },
  {
   "cell_type": "code",
   "execution_count": 4,
   "metadata": {},
   "outputs": [
    {
     "name": "stdout",
     "output_type": "stream",
     "text": [
      "Collecting gensim\n",
      "  Downloading gensim-4.0.1-cp38-cp38-win_amd64.whl (23.9 MB)\n",
      "Requirement already satisfied: smart-open>=1.8.1 in c:\\users\\ashish yenkar\\anaconda3\\lib\\site-packages (from gensim) (5.1.0)\n",
      "Collecting Cython==0.29.21\n",
      "  Downloading Cython-0.29.21-cp38-cp38-win_amd64.whl (1.7 MB)\n",
      "Requirement already satisfied: numpy>=1.11.3 in c:\\users\\ashish yenkar\\anaconda3\\lib\\site-packages (from gensim) (1.20.1)\n",
      "Requirement already satisfied: scipy>=0.18.1 in c:\\users\\ashish yenkar\\anaconda3\\lib\\site-packages (from gensim) (1.6.2)\n",
      "Installing collected packages: Cython, gensim\n",
      "  Attempting uninstall: Cython\n",
      "    Found existing installation: Cython 0.29.23\n",
      "    Uninstalling Cython-0.29.23:\n",
      "      Successfully uninstalled Cython-0.29.23\n",
      "Successfully installed Cython-0.29.21 gensim-4.0.1\n"
     ]
    }
   ],
   "source": [
    "!pip install gensim"
   ]
  },
  {
   "cell_type": "code",
   "execution_count": 6,
   "metadata": {},
   "outputs": [
    {
     "name": "stdout",
     "output_type": "stream",
     "text": [
      "Collecting pyLDAvis\n",
      "  Downloading pyLDAvis-3.3.1.tar.gz (1.7 MB)\n",
      "  Installing build dependencies: started\n",
      "  Installing build dependencies: finished with status 'error'\n",
      "  Downloading pyLDAvis-3.3.0.tar.gz (1.7 MB)\n",
      "  Installing build dependencies: started\n",
      "  Installing build dependencies: finished with status 'error'\n",
      "  Downloading pyLDAvis-3.2.2.tar.gz (1.7 MB)\n",
      "Requirement already satisfied: wheel>=0.23.0 in c:\\users\\ashish yenkar\\anaconda3\\lib\\site-packages (from pyLDAvis) (0.36.2)\n",
      "Requirement already satisfied: numpy>=1.9.2 in c:\\users\\ashish yenkar\\anaconda3\\lib\\site-packages (from pyLDAvis) (1.20.1)\n",
      "Requirement already satisfied: scipy>=0.18.0 in c:\\users\\ashish yenkar\\anaconda3\\lib\\site-packages (from pyLDAvis) (1.6.2)\n",
      "Requirement already satisfied: joblib>=0.8.4 in c:\\users\\ashish yenkar\\anaconda3\\lib\\site-packages (from pyLDAvis) (1.0.1)\n",
      "Requirement already satisfied: jinja2>=2.7.2 in c:\\users\\ashish yenkar\\anaconda3\\lib\\site-packages (from pyLDAvis) (2.11.3)\n",
      "Requirement already satisfied: numexpr in c:\\users\\ashish yenkar\\anaconda3\\lib\\site-packages (from pyLDAvis) (2.7.3)\n",
      "Requirement already satisfied: future in c:\\users\\ashish yenkar\\anaconda3\\lib\\site-packages (from pyLDAvis) (0.18.2)\n",
      "Collecting funcy\n",
      "  Downloading funcy-1.16-py2.py3-none-any.whl (32 kB)\n",
      "Requirement already satisfied: pandas>=0.17.0 in c:\\users\\ashish yenkar\\anaconda3\\lib\\site-packages (from pyLDAvis) (1.2.4)\n",
      "Requirement already satisfied: MarkupSafe>=0.23 in c:\\users\\ashish yenkar\\anaconda3\\lib\\site-packages (from jinja2>=2.7.2->pyLDAvis) (1.1.1)\n",
      "Requirement already satisfied: python-dateutil>=2.7.3 in c:\\users\\ashish yenkar\\anaconda3\\lib\\site-packages (from pandas>=0.17.0->pyLDAvis) (2.8.1)\n",
      "Requirement already satisfied: pytz>=2017.3 in c:\\users\\ashish yenkar\\anaconda3\\lib\\site-packages (from pandas>=0.17.0->pyLDAvis) (2021.1)\n",
      "Requirement already satisfied: six>=1.5 in c:\\users\\ashish yenkar\\anaconda3\\lib\\site-packages (from python-dateutil>=2.7.3->pandas>=0.17.0->pyLDAvis) (1.15.0)\n",
      "Building wheels for collected packages: pyLDAvis\n",
      "  Building wheel for pyLDAvis (setup.py): started\n",
      "  Building wheel for pyLDAvis (setup.py): finished with status 'done'\n",
      "  Created wheel for pyLDAvis: filename=pyLDAvis-3.2.2-py2.py3-none-any.whl size=135593 sha256=e36474a91f3c0149f79278a557cc57840899f0cc22a92d2e8e3713ddd5e52064\n",
      "  Stored in directory: c:\\users\\ashish yenkar\\appdata\\local\\pip\\cache\\wheels\\2a\\5b\\b3\\26b52781cdeea9c815e147cfd4ac4a0a3472bce92142115670\n",
      "Successfully built pyLDAvis\n",
      "Installing collected packages: funcy, pyLDAvis\n",
      "Successfully installed funcy-1.16 pyLDAvis-3.2.2\n"
     ]
    },
    {
     "name": "stderr",
     "output_type": "stream",
     "text": [
      "  ERROR: Command errored out with exit status 1:\n",
      "   command: 'C:\\Users\\ASHISH YENKAR\\anaconda3\\python.exe' 'C:\\Users\\ASHISH YENKAR\\anaconda3\\lib\\site-packages\\pip' install --ignore-installed --no-user --prefix 'C:\\Users\\ASHISH YENKAR\\AppData\\Local\\Temp\\pip-build-env-9z7eu823\\overlay' --no-warn-script-location --no-binary :none: --only-binary :none: -i https://pypi.org/simple -- setuptools\n",
      "       cwd: None\n",
      "  Complete output (28 lines):\n",
      "  Traceback (most recent call last):\n",
      "    File \"C:\\Users\\ASHISH YENKAR\\anaconda3\\lib\\runpy.py\", line 194, in _run_module_as_main\n",
      "      return _run_code(code, main_globals, None,\n",
      "    File \"C:\\Users\\ASHISH YENKAR\\anaconda3\\lib\\runpy.py\", line 87, in _run_code\n",
      "      exec(code, run_globals)\n",
      "    File \"C:\\Users\\ASHISH YENKAR\\anaconda3\\lib\\site-packages\\pip\\__main__.py\", line 24, in <module>\n",
      "      sys.exit(_main())\n",
      "    File \"C:\\Users\\ASHISH YENKAR\\anaconda3\\lib\\site-packages\\pip\\_internal\\cli\\main.py\", line 71, in main\n",
      "      command = create_command(cmd_name, isolated=(\"--isolated\" in cmd_args))\n",
      "    File \"C:\\Users\\ASHISH YENKAR\\anaconda3\\lib\\site-packages\\pip\\_internal\\commands\\__init__.py\", line 96, in create_command\n",
      "      module = importlib.import_module(module_path)\n",
      "    File \"C:\\Users\\ASHISH YENKAR\\anaconda3\\lib\\importlib\\__init__.py\", line 127, in import_module\n",
      "      return _bootstrap._gcd_import(name[level:], package, level)\n",
      "    File \"<frozen importlib._bootstrap>\", line 1014, in _gcd_import\n",
      "    File \"<frozen importlib._bootstrap>\", line 991, in _find_and_load\n",
      "    File \"<frozen importlib._bootstrap>\", line 975, in _find_and_load_unlocked\n",
      "    File \"<frozen importlib._bootstrap>\", line 671, in _load_unlocked\n",
      "    File \"<frozen importlib._bootstrap_external>\", line 783, in exec_module\n",
      "    File \"<frozen importlib._bootstrap>\", line 219, in _call_with_frames_removed\n",
      "    File \"C:\\Users\\ASHISH YENKAR\\anaconda3\\lib\\site-packages\\pip\\_internal\\commands\\install.py\", line 15, in <module>\n",
      "      from pip._internal.cli.req_command import RequirementCommand, with_cleanup\n",
      "    File \"C:\\Users\\ASHISH YENKAR\\anaconda3\\lib\\site-packages\\pip\\_internal\\cli\\req_command.py\", line 16, in <module>\n",
      "      from pip._internal.index.collector import LinkCollector\n",
      "    File \"C:\\Users\\ASHISH YENKAR\\anaconda3\\lib\\site-packages\\pip\\_internal\\index\\collector.py\", line 17, in <module>\n",
      "      from pip._vendor.distlib.compat import unescape\n",
      "    File \"C:\\Users\\ASHISH YENKAR\\anaconda3\\lib\\site-packages\\pip\\_vendor\\distlib\\compat.py\", line 85, in <module>\n",
      "      from html.parser import HTMLParser\n",
      "  ModuleNotFoundError: No module named 'html.parser'; 'html' is not a package\n",
      "  ----------------------------------------\n",
      "WARNING: Discarding https://files.pythonhosted.org/packages/03/a5/15a0da6b0150b8b68610cc78af80364a80a9a4c8b6dd5ee549b8989d4b60/pyLDAvis-3.3.1.tar.gz#sha256=f181b88401f6f8f17d5a99ab69ef99b2c496faa276919262f8ec246307b7050c (from https://pypi.org/simple/pyldavis/). Command errored out with exit status 1: 'C:\\Users\\ASHISH YENKAR\\anaconda3\\python.exe' 'C:\\Users\\ASHISH YENKAR\\anaconda3\\lib\\site-packages\\pip' install --ignore-installed --no-user --prefix 'C:\\Users\\ASHISH YENKAR\\AppData\\Local\\Temp\\pip-build-env-9z7eu823\\overlay' --no-warn-script-location --no-binary :none: --only-binary :none: -i https://pypi.org/simple -- setuptools Check the logs for full command output.\n",
      "  ERROR: Command errored out with exit status 1:\n",
      "   command: 'C:\\Users\\ASHISH YENKAR\\anaconda3\\python.exe' 'C:\\Users\\ASHISH YENKAR\\anaconda3\\lib\\site-packages\\pip' install --ignore-installed --no-user --prefix 'C:\\Users\\ASHISH YENKAR\\AppData\\Local\\Temp\\pip-build-env-g_7610zt\\overlay' --no-warn-script-location --no-binary :none: --only-binary :none: -i https://pypi.org/simple -- setuptools\n",
      "       cwd: None\n",
      "  Complete output (28 lines):\n",
      "  Traceback (most recent call last):\n",
      "    File \"C:\\Users\\ASHISH YENKAR\\anaconda3\\lib\\runpy.py\", line 194, in _run_module_as_main\n",
      "      return _run_code(code, main_globals, None,\n",
      "    File \"C:\\Users\\ASHISH YENKAR\\anaconda3\\lib\\runpy.py\", line 87, in _run_code\n",
      "      exec(code, run_globals)\n",
      "    File \"C:\\Users\\ASHISH YENKAR\\anaconda3\\lib\\site-packages\\pip\\__main__.py\", line 24, in <module>\n",
      "      sys.exit(_main())\n",
      "    File \"C:\\Users\\ASHISH YENKAR\\anaconda3\\lib\\site-packages\\pip\\_internal\\cli\\main.py\", line 71, in main\n",
      "      command = create_command(cmd_name, isolated=(\"--isolated\" in cmd_args))\n",
      "    File \"C:\\Users\\ASHISH YENKAR\\anaconda3\\lib\\site-packages\\pip\\_internal\\commands\\__init__.py\", line 96, in create_command\n",
      "      module = importlib.import_module(module_path)\n",
      "    File \"C:\\Users\\ASHISH YENKAR\\anaconda3\\lib\\importlib\\__init__.py\", line 127, in import_module\n",
      "      return _bootstrap._gcd_import(name[level:], package, level)\n",
      "    File \"<frozen importlib._bootstrap>\", line 1014, in _gcd_import\n",
      "    File \"<frozen importlib._bootstrap>\", line 991, in _find_and_load\n",
      "    File \"<frozen importlib._bootstrap>\", line 975, in _find_and_load_unlocked\n",
      "    File \"<frozen importlib._bootstrap>\", line 671, in _load_unlocked\n",
      "    File \"<frozen importlib._bootstrap_external>\", line 783, in exec_module\n",
      "    File \"<frozen importlib._bootstrap>\", line 219, in _call_with_frames_removed\n",
      "    File \"C:\\Users\\ASHISH YENKAR\\anaconda3\\lib\\site-packages\\pip\\_internal\\commands\\install.py\", line 15, in <module>\n",
      "      from pip._internal.cli.req_command import RequirementCommand, with_cleanup\n",
      "    File \"C:\\Users\\ASHISH YENKAR\\anaconda3\\lib\\site-packages\\pip\\_internal\\cli\\req_command.py\", line 16, in <module>\n",
      "      from pip._internal.index.collector import LinkCollector\n",
      "    File \"C:\\Users\\ASHISH YENKAR\\anaconda3\\lib\\site-packages\\pip\\_internal\\index\\collector.py\", line 17, in <module>\n",
      "      from pip._vendor.distlib.compat import unescape\n",
      "    File \"C:\\Users\\ASHISH YENKAR\\anaconda3\\lib\\site-packages\\pip\\_vendor\\distlib\\compat.py\", line 85, in <module>\n",
      "      from html.parser import HTMLParser\n",
      "  ModuleNotFoundError: No module named 'html.parser'; 'html' is not a package\n",
      "  ----------------------------------------\n",
      "WARNING: Discarding https://files.pythonhosted.org/packages/7a/f0/0bad54f2ebe51e0aa09c6f69f53204f499b97b35b4d969d2c6644f48d834/pyLDAvis-3.3.0.tar.gz#sha256=828677860409ebf11b6077a4589a30ab94f51dc4b2f8751105aae8d95dd28dd4 (from https://pypi.org/simple/pyldavis/). Command errored out with exit status 1: 'C:\\Users\\ASHISH YENKAR\\anaconda3\\python.exe' 'C:\\Users\\ASHISH YENKAR\\anaconda3\\lib\\site-packages\\pip' install --ignore-installed --no-user --prefix 'C:\\Users\\ASHISH YENKAR\\AppData\\Local\\Temp\\pip-build-env-g_7610zt\\overlay' --no-warn-script-location --no-binary :none: --only-binary :none: -i https://pypi.org/simple -- setuptools Check the logs for full command output.\n"
     ]
    }
   ],
   "source": [
    "!pip install pyLDAvis"
   ]
  },
  {
   "cell_type": "code",
   "execution_count": 16,
   "metadata": {
    "scrolled": true
   },
   "outputs": [
    {
     "name": "stderr",
     "output_type": "stream",
     "text": [
      "C:\\Users\\ASHISH YENKAR\\anaconda3\\lib\\site-packages\\ipykernel\\ipkernel.py:287: DeprecationWarning: `should_run_async` will not call `transform_cell` automatically in the future. Please pass the result to `transformed_cell` argument and any exception that happen during thetransform in `preprocessing_exc_tuple` in IPython 7.17 and above.\n",
      "  and should_run_async(code)\n"
     ]
    }
   ],
   "source": [
    "df= pd.read_csv(\"C:/Users/ASHISH YENKAR/Desktop/Topic-Modeling-main/data.csv\")"
   ]
  },
  {
   "cell_type": "code",
   "execution_count": 17,
   "metadata": {},
   "outputs": [
    {
     "name": "stdout",
     "output_type": "stream",
     "text": [
      "                                           Statement  \\\n",
      "0  “Nobody's ever seen a number like this… (33.1%...   \n",
      "1  Says President Donald Trump \"thinks that $15 a...   \n",
      "\n",
      "                                                Link           Date  \\\n",
      "0  https://www.politifact.com/factchecks/2020/oct...  ober 30^ 2020   \n",
      "1  https://www.politifact.com/factchecks/2020/oct...  ober 30^ 2020   \n",
      "\n",
      "         Source      Label  \n",
      "0  Donald Trump  half-true  \n",
      "1     Joe Biden  half-true  \n",
      "31\n"
     ]
    },
    {
     "name": "stderr",
     "output_type": "stream",
     "text": [
      "C:\\Users\\ASHISH YENKAR\\anaconda3\\lib\\site-packages\\ipykernel\\ipkernel.py:287: DeprecationWarning: `should_run_async` will not call `transform_cell` automatically in the future. Please pass the result to `transformed_cell` argument and any exception that happen during thetransform in `preprocessing_exc_tuple` in IPython 7.17 and above.\n",
      "  and should_run_async(code)\n"
     ]
    }
   ],
   "source": [
    "print(df.head(2))\n",
    "print(len(df))"
   ]
  },
  {
   "cell_type": "code",
   "execution_count": 38,
   "metadata": {},
   "outputs": [
    {
     "name": "stderr",
     "output_type": "stream",
     "text": [
      "C:\\Users\\ASHISH YENKAR\\anaconda3\\lib\\site-packages\\ipykernel\\ipkernel.py:287: DeprecationWarning: `should_run_async` will not call `transform_cell` automatically in the future. Please pass the result to `transformed_cell` argument and any exception that happen during thetransform in `preprocessing_exc_tuple` in IPython 7.17 and above.\n",
      "  and should_run_async(code)\n"
     ]
    }
   ],
   "source": [
    "def clean_text(text ): \n",
    "    delete_dict = {sp_character: '' for sp_character in string.punctuation} \n",
    "    delete_dict[' '] = ' ' \n",
    "    table = str.maketrans(delete_dict)\n",
    "    text1 = text.translate(table)\n",
    "    #print('cleaned:'+text1)\n",
    "    textArr= text1.split()\n",
    "    text2 = ' '.join([w for w in textArr if ( not w.isdigit() and  ( not w.isdigit() and len(w)>3))]) \n",
    "    \n",
    "    return text2.lower()"
   ]
  },
  {
   "cell_type": "code",
   "execution_count": 13,
   "metadata": {},
   "outputs": [
    {
     "name": "stderr",
     "output_type": "stream",
     "text": [
      "C:\\Users\\ASHISH YENKAR\\anaconda3\\lib\\site-packages\\ipykernel\\ipkernel.py:287: DeprecationWarning: `should_run_async` will not call `transform_cell` automatically in the future. Please pass the result to `transformed_cell` argument and any exception that happen during thetransform in `preprocessing_exc_tuple` in IPython 7.17 and above.\n",
      "  and should_run_async(code)\n",
      "[nltk_data] Downloading package stopwords to C:\\Users\\ASHISH\n",
      "[nltk_data]     YENKAR\\AppData\\Roaming\\nltk_data...\n",
      "[nltk_data]   Package stopwords is already up-to-date!\n"
     ]
    },
    {
     "data": {
      "text/plain": [
       "True"
      ]
     },
     "execution_count": 13,
     "metadata": {},
     "output_type": "execute_result"
    }
   ],
   "source": [
    "import nltk\n",
    "nltk.download('stopwords') # run this one time"
   ]
  },
  {
   "cell_type": "markdown",
   "metadata": {},
   "source": [
    "***\n",
    "Let us pre-process the data\n",
    "***"
   ]
  },
  {
   "cell_type": "code",
   "execution_count": 19,
   "metadata": {},
   "outputs": [
    {
     "name": "stderr",
     "output_type": "stream",
     "text": [
      "C:\\Users\\ASHISH YENKAR\\anaconda3\\lib\\site-packages\\ipykernel\\ipkernel.py:287: DeprecationWarning: `should_run_async` will not call `transform_cell` automatically in the future. Please pass the result to `transformed_cell` argument and any exception that happen during thetransform in `preprocessing_exc_tuple` in IPython 7.17 and above.\n",
      "  and should_run_async(code)\n"
     ]
    }
   ],
   "source": [
    "from nltk.corpus import stopwords\n",
    "stop_words = stopwords.words('english')\n",
    "# function to remove stopwords\n",
    "def remove_stopwords(text):\n",
    "    textArr = text.split(' ')\n",
    "    rem_text = \" \".join([i for i in textArr if i not in stop_words])\n",
    "    return rem_text\n",
    "\n",
    "# remove stopwords from the text\n",
    "df['Statement']=df['Statement'].apply(remove_stopwords)\n",
    "\n"
   ]
  },
  {
   "cell_type": "code",
   "execution_count": 35,
   "metadata": {},
   "outputs": [
    {
     "name": "stderr",
     "output_type": "stream",
     "text": [
      "C:\\Users\\ASHISH YENKAR\\anaconda3\\lib\\site-packages\\ipykernel\\ipkernel.py:287: DeprecationWarning: `should_run_async` will not call `transform_cell` automatically in the future. Please pass the result to `transformed_cell` argument and any exception that happen during thetransform in `preprocessing_exc_tuple` in IPython 7.17 and above.\n",
      "  and should_run_async(code)\n"
     ]
    }
   ],
   "source": [
    "import spacy\n"
   ]
  },
  {
   "cell_type": "code",
   "execution_count": 36,
   "metadata": {},
   "outputs": [
    {
     "name": "stderr",
     "output_type": "stream",
     "text": [
      "C:\\Users\\ASHISH YENKAR\\anaconda3\\lib\\site-packages\\ipykernel\\ipkernel.py:287: DeprecationWarning: `should_run_async` will not call `transform_cell` automatically in the future. Please pass the result to `transformed_cell` argument and any exception that happen during thetransform in `preprocessing_exc_tuple` in IPython 7.17 and above.\n",
      "  and should_run_async(code)\n"
     ]
    },
    {
     "name": "stdout",
     "output_type": "stream",
     "text": [
      "Collecting en-core-web-sm==3.0.0\n",
      "  Downloading https://github.com/explosion/spacy-models/releases/download/en_core_web_sm-3.0.0/en_core_web_sm-3.0.0-py3-none-any.whl (13.7 MB)\n",
      "Requirement already satisfied: spacy<3.1.0,>=3.0.0 in c:\\users\\ashish yenkar\\anaconda3\\lib\\site-packages (from en-core-web-sm==3.0.0) (3.0.6)\n",
      "Requirement already satisfied: cymem<2.1.0,>=2.0.2 in c:\\users\\ashish yenkar\\anaconda3\\lib\\site-packages (from spacy<3.1.0,>=3.0.0->en-core-web-sm==3.0.0) (2.0.5)\n",
      "Requirement already satisfied: srsly<3.0.0,>=2.4.1 in c:\\users\\ashish yenkar\\anaconda3\\lib\\site-packages (from spacy<3.1.0,>=3.0.0->en-core-web-sm==3.0.0) (2.4.1)\n",
      "Requirement already satisfied: typer<0.4.0,>=0.3.0 in c:\\users\\ashish yenkar\\anaconda3\\lib\\site-packages (from spacy<3.1.0,>=3.0.0->en-core-web-sm==3.0.0) (0.3.2)\n",
      "Requirement already satisfied: preshed<3.1.0,>=3.0.2 in c:\\users\\ashish yenkar\\anaconda3\\lib\\site-packages (from spacy<3.1.0,>=3.0.0->en-core-web-sm==3.0.0) (3.0.5)\n",
      "Requirement already satisfied: thinc<8.1.0,>=8.0.3 in c:\\users\\ashish yenkar\\anaconda3\\lib\\site-packages (from spacy<3.1.0,>=3.0.0->en-core-web-sm==3.0.0) (8.0.6)\n",
      "Requirement already satisfied: wasabi<1.1.0,>=0.8.1 in c:\\users\\ashish yenkar\\anaconda3\\lib\\site-packages (from spacy<3.1.0,>=3.0.0->en-core-web-sm==3.0.0) (0.8.2)\n",
      "Requirement already satisfied: jinja2 in c:\\users\\ashish yenkar\\anaconda3\\lib\\site-packages (from spacy<3.1.0,>=3.0.0->en-core-web-sm==3.0.0) (2.11.3)\n",
      "Requirement already satisfied: requests<3.0.0,>=2.13.0 in c:\\users\\ashish yenkar\\anaconda3\\lib\\site-packages (from spacy<3.1.0,>=3.0.0->en-core-web-sm==3.0.0) (2.25.1)\n",
      "Requirement already satisfied: spacy-legacy<3.1.0,>=3.0.4 in c:\\users\\ashish yenkar\\anaconda3\\lib\\site-packages (from spacy<3.1.0,>=3.0.0->en-core-web-sm==3.0.0) (3.0.6)\n",
      "Requirement already satisfied: murmurhash<1.1.0,>=0.28.0 in c:\\users\\ashish yenkar\\anaconda3\\lib\\site-packages (from spacy<3.1.0,>=3.0.0->en-core-web-sm==3.0.0) (1.0.5)\n",
      "Requirement already satisfied: pathy>=0.3.5 in c:\\users\\ashish yenkar\\anaconda3\\lib\\site-packages (from spacy<3.1.0,>=3.0.0->en-core-web-sm==3.0.0) (0.6.0)\n",
      "Requirement already satisfied: packaging>=20.0 in c:\\users\\ashish yenkar\\anaconda3\\lib\\site-packages (from spacy<3.1.0,>=3.0.0->en-core-web-sm==3.0.0) (20.9)\n",
      "Requirement already satisfied: numpy>=1.15.0 in c:\\users\\ashish yenkar\\anaconda3\\lib\\site-packages (from spacy<3.1.0,>=3.0.0->en-core-web-sm==3.0.0) (1.20.1)\n",
      "Requirement already satisfied: tqdm<5.0.0,>=4.38.0 in c:\\users\\ashish yenkar\\anaconda3\\lib\\site-packages (from spacy<3.1.0,>=3.0.0->en-core-web-sm==3.0.0) (4.59.0)\n",
      "Requirement already satisfied: pydantic<1.8.0,>=1.7.1 in c:\\users\\ashish yenkar\\anaconda3\\lib\\site-packages (from spacy<3.1.0,>=3.0.0->en-core-web-sm==3.0.0) (1.7.4)\n",
      "Requirement already satisfied: setuptools in c:\\users\\ashish yenkar\\anaconda3\\lib\\site-packages (from spacy<3.1.0,>=3.0.0->en-core-web-sm==3.0.0) (52.0.0.post20210125)\n",
      "Requirement already satisfied: blis<0.8.0,>=0.4.0 in c:\\users\\ashish yenkar\\anaconda3\\lib\\site-packages (from spacy<3.1.0,>=3.0.0->en-core-web-sm==3.0.0) (0.7.4)\n",
      "Requirement already satisfied: catalogue<2.1.0,>=2.0.3 in c:\\users\\ashish yenkar\\anaconda3\\lib\\site-packages (from spacy<3.1.0,>=3.0.0->en-core-web-sm==3.0.0) (2.0.4)\n",
      "Requirement already satisfied: pyparsing>=2.0.2 in c:\\users\\ashish yenkar\\anaconda3\\lib\\site-packages (from packaging>=20.0->spacy<3.1.0,>=3.0.0->en-core-web-sm==3.0.0) (2.4.7)\n",
      "Requirement already satisfied: smart-open<6.0.0,>=5.0.0 in c:\\users\\ashish yenkar\\anaconda3\\lib\\site-packages (from pathy>=0.3.5->spacy<3.1.0,>=3.0.0->en-core-web-sm==3.0.0) (5.1.0)\n",
      "Requirement already satisfied: idna<3,>=2.5 in c:\\users\\ashish yenkar\\anaconda3\\lib\\site-packages (from requests<3.0.0,>=2.13.0->spacy<3.1.0,>=3.0.0->en-core-web-sm==3.0.0) (2.10)\n",
      "Requirement already satisfied: chardet<5,>=3.0.2 in c:\\users\\ashish yenkar\\anaconda3\\lib\\site-packages (from requests<3.0.0,>=2.13.0->spacy<3.1.0,>=3.0.0->en-core-web-sm==3.0.0) (4.0.0)\n",
      "Requirement already satisfied: certifi>=2017.4.17 in c:\\users\\ashish yenkar\\anaconda3\\lib\\site-packages (from requests<3.0.0,>=2.13.0->spacy<3.1.0,>=3.0.0->en-core-web-sm==3.0.0) (2020.12.5)\n",
      "Requirement already satisfied: urllib3<1.27,>=1.21.1 in c:\\users\\ashish yenkar\\anaconda3\\lib\\site-packages (from requests<3.0.0,>=2.13.0->spacy<3.1.0,>=3.0.0->en-core-web-sm==3.0.0) (1.26.4)\n",
      "Requirement already satisfied: click<7.2.0,>=7.1.1 in c:\\users\\ashish yenkar\\anaconda3\\lib\\site-packages (from typer<0.4.0,>=0.3.0->spacy<3.1.0,>=3.0.0->en-core-web-sm==3.0.0) (7.1.2)\n",
      "Requirement already satisfied: MarkupSafe>=0.23 in c:\\users\\ashish yenkar\\anaconda3\\lib\\site-packages (from jinja2->spacy<3.1.0,>=3.0.0->en-core-web-sm==3.0.0) (1.1.1)\n",
      "Installing collected packages: en-core-web-sm\n",
      "Successfully installed en-core-web-sm-3.0.0\n",
      "[+] Download and installation successful\n",
      "You can now load the package via spacy.load('en_core_web_sm')\n"
     ]
    }
   ],
   "source": [
    "!python -m spacy download en_core_web_sm"
   ]
  },
  {
   "cell_type": "code",
   "execution_count": 40,
   "metadata": {},
   "outputs": [
    {
     "name": "stderr",
     "output_type": "stream",
     "text": [
      "C:\\Users\\ASHISH YENKAR\\anaconda3\\lib\\site-packages\\ipykernel\\ipkernel.py:287: DeprecationWarning: `should_run_async` will not call `transform_cell` automatically in the future. Please pass the result to `transformed_cell` argument and any exception that happen during thetransform in `preprocessing_exc_tuple` in IPython 7.17 and above.\n",
      "  and should_run_async(code)\n"
     ]
    }
   ],
   "source": [
    "\n",
    "nlp = spacy.load('en_core_web_sm', disable=['parser', 'ner'])\n",
    "\n",
    "def lemmatization(texts,allowed_postags=['NOUN', 'ADJ']): \n",
    "       output = []\n",
    "       for sent in texts:\n",
    "             doc = nlp(sent) \n",
    "             output.append([token.lemma_ for token in doc if token.pos_ in allowed_postags ])\n",
    "       return output"
   ]
  },
  {
   "cell_type": "code",
   "execution_count": 42,
   "metadata": {},
   "outputs": [
    {
     "name": "stderr",
     "output_type": "stream",
     "text": [
      "C:\\Users\\ASHISH YENKAR\\anaconda3\\lib\\site-packages\\ipykernel\\ipkernel.py:287: DeprecationWarning: `should_run_async` will not call `transform_cell` automatically in the future. Please pass the result to `transformed_cell` argument and any exception that happen during thetransform in `preprocessing_exc_tuple` in IPython 7.17 and above.\n",
      "  and should_run_async(code)\n"
     ]
    },
    {
     "name": "stdout",
     "output_type": "stream",
     "text": [
      "Says President Donald Trump \"thinks $15 hour minimum wage much essential workers.\"\n",
      "['hour', 'minimum', 'wage', 'much', 'essential', 'worker']\n"
     ]
    }
   ],
   "source": [
    " \n",
    "text_list=df['Statement'].tolist()\n",
    "print(text_list[1])\n",
    "tokenized_reviews = lemmatization(text_list)\n",
    "print(tokenized_reviews[1])"
   ]
  },
  {
   "cell_type": "markdown",
   "metadata": {},
   "source": [
    "***\n",
    "Create vocabulary dictionary and document term matrix\n",
    "***"
   ]
  },
  {
   "cell_type": "code",
   "execution_count": 43,
   "metadata": {},
   "outputs": [
    {
     "name": "stderr",
     "output_type": "stream",
     "text": [
      "C:\\Users\\ASHISH YENKAR\\anaconda3\\lib\\site-packages\\ipykernel\\ipkernel.py:287: DeprecationWarning: `should_run_async` will not call `transform_cell` automatically in the future. Please pass the result to `transformed_cell` argument and any exception that happen during thetransform in `preprocessing_exc_tuple` in IPython 7.17 and above.\n",
      "  and should_run_async(code)\n"
     ]
    }
   ],
   "source": [
    "dictionary = corpora.Dictionary(tokenized_reviews)\n",
    "doc_term_matrix = [dictionary.doc2bow(rev) for rev in tokenized_reviews]"
   ]
  },
  {
   "cell_type": "code",
   "execution_count": 44,
   "metadata": {},
   "outputs": [
    {
     "name": "stderr",
     "output_type": "stream",
     "text": [
      "C:\\Users\\ASHISH YENKAR\\anaconda3\\lib\\site-packages\\ipykernel\\ipkernel.py:287: DeprecationWarning: `should_run_async` will not call `transform_cell` automatically in the future. Please pass the result to `transformed_cell` argument and any exception that happen during thetransform in `preprocessing_exc_tuple` in IPython 7.17 and above.\n",
      "  and should_run_async(code)\n"
     ]
    }
   ],
   "source": [
    "# Creating the object for LDA model using gensim library\n",
    "LDA = gensim.models.ldamodel.LdaModel\n",
    "\n",
    "# Build LDA model\n",
    "lda_model = LDA(corpus=doc_term_matrix, id2word=dictionary, num_topics=10, random_state=100,\n",
    "                chunksize=1000, passes=50,iterations=100)"
   ]
  },
  {
   "cell_type": "code",
   "execution_count": 45,
   "metadata": {},
   "outputs": [
    {
     "name": "stderr",
     "output_type": "stream",
     "text": [
      "C:\\Users\\ASHISH YENKAR\\anaconda3\\lib\\site-packages\\ipykernel\\ipkernel.py:287: DeprecationWarning: `should_run_async` will not call `transform_cell` automatically in the future. Please pass the result to `transformed_cell` argument and any exception that happen during thetransform in `preprocessing_exc_tuple` in IPython 7.17 and above.\n",
      "  and should_run_async(code)\n"
     ]
    },
    {
     "data": {
      "text/plain": [
       "[(0,\n",
       "  '0.057*\"state\" + 0.057*\"%\" + 0.057*\"act^\" + 0.057*\"affordable\" + 0.057*\"folk\" + 0.057*\"staff\" + 0.057*\"camera\" + 0.057*\"court\" + 0.005*\"personal\" + 0.005*\"flexible\"'),\n",
       " (1,\n",
       "  '0.047*\"time\" + 0.047*\"pre\" + 0.047*\"condition\" + 0.047*\"-\" + 0.047*\"taxis\" + 0.047*\"inheritance\" + 0.047*\"basis\" + 0.047*\"meeting\" + 0.047*\"voter\" + 0.047*\"pandemic\"'),\n",
       " (2,\n",
       "  '0.050*\"test\" + 0.050*\"year\" + 0.050*\"drug\" + 0.050*\"people\" + 0.050*\"alcohol\" + 0.050*\"dependent\" + 0.050*\"low\" + 0.050*\"building\" + 0.050*\"school\" + 0.050*\"campaign\"'),\n",
       " (3,\n",
       "  '0.060*\"health\" + 0.060*\"family\" + 0.060*\"theft\" + 0.060*\"other\" + 0.060*\"insurance^\" + 0.060*\"trump\" + 0.060*\"free\" + 0.005*\"earnings^\" + 0.005*\"flexible\" + 0.005*\"care\"'),\n",
       " (4,\n",
       "  '0.077*\"looter\" + 0.077*\"hungry\" + 0.077*\"kid\" + 0.007*\"earnings^\" + 0.007*\"folk\" + 0.007*\"care\" + 0.007*\"driver\" + 0.007*\"act^\" + 0.007*\"protections^\" + 0.007*\"schedule\"'),\n",
       " (5,\n",
       "  '0.073*\"ballot\" + 0.026*\"week\" + 0.026*\"flexible\" + 0.026*\"schedule\" + 0.026*\"protections^\" + 0.026*\"personal\" + 0.026*\"care\" + 0.026*\"driver\" + 0.026*\"earnings^\" + 0.026*\"election\"'),\n",
       " (6,\n",
       "  '0.042*\"wage\" + 0.042*\"worker\" + 0.042*\"minimum\" + 0.022*\"need\" + 0.022*\"jacob\" + 0.022*\"com\" + 0.022*\"factchecks/2020\" + 0.022*\"claim\" + 0.022*\"oct/30\" + 0.022*\"chris\"'),\n",
       " (7,\n",
       "  '0.009*\"important\" + 0.009*\"laptop\" + 0.009*\"interview\" + 0.009*\"folk\" + 0.009*\"care\" + 0.009*\"driver\" + 0.009*\"earnings^\" + 0.009*\"act^\" + 0.009*\"flexible\" + 0.009*\"license\"'),\n",
       " (8,\n",
       "  '0.099*\"voting\" + 0.052*\"law\" + 0.052*\"decision\" + 0.052*\"right\" + 0.052*\"major\" + 0.052*\"site\" + 0.052*\"ballot\" + 0.052*\"fence\" + 0.052*\"test\" + 0.005*\"license\"'),\n",
       " (9,\n",
       "  '0.050*\"insincere^\" + 0.050*\"lying^\" + 0.050*\"talking^\" + 0.050*\"socialist\" + 0.050*\"radical\" + 0.050*\"incompetent^\" + 0.050*\"flip\" + 0.050*\"flopping^\" + 0.050*\"double\" + 0.050*\"do\"')]"
      ]
     },
     "execution_count": 45,
     "metadata": {},
     "output_type": "execute_result"
    }
   ],
   "source": [
    "lda_model.print_topics()"
   ]
  },
  {
   "cell_type": "code",
   "execution_count": 46,
   "metadata": {},
   "outputs": [
    {
     "name": "stderr",
     "output_type": "stream",
     "text": [
      "C:\\Users\\ASHISH YENKAR\\anaconda3\\lib\\site-packages\\ipykernel\\ipkernel.py:287: DeprecationWarning: `should_run_async` will not call `transform_cell` automatically in the future. Please pass the result to `transformed_cell` argument and any exception that happen during thetransform in `preprocessing_exc_tuple` in IPython 7.17 and above.\n",
      "  and should_run_async(code)\n"
     ]
    },
    {
     "data": {
      "text/html": [
       "\n",
       "<link rel=\"stylesheet\" type=\"text/css\" href=\"https://cdn.jsdelivr.net/gh/bmabey/pyLDAvis@3.2.2/pyLDAvis/js/ldavis.v1.0.0.css\">\n",
       "\n",
       "\n",
       "<div id=\"ldavis_el920821077010348965943345328\"></div>\n",
       "<script type=\"text/javascript\">\n",
       "\n",
       "var ldavis_el920821077010348965943345328_data = {\"mdsDat\": {\"x\": [0.18058831945430218, -0.15168549821880586, -0.0026766071319586685, -0.03057380471947963, 0.05928124615289759, -0.05753818733194874, 0.0024310136301427766, -0.011360114689199143, 0.0051480043535556, 0.006385628500493923], \"y\": [-0.07683804922204322, -0.11975962853855958, 0.1184720963035313, 0.07624813043951754, -0.018117690878517726, 0.006982162592301973, 0.006704881492374847, 0.012258251909495452, 0.003809556603983486, -0.009759710702084225], \"topics\": [1, 2, 3, 4, 5, 6, 7, 8, 9, 10], \"cluster\": [1, 1, 1, 1, 1, 1, 1, 1, 1, 1], \"Freq\": [26.97963213798441, 21.501939378426073, 8.923225318756131, 8.329796838710756, 8.304550069896639, 7.647973612441994, 6.63788628011122, 6.4169213020439235, 3.4813095254623754, 1.7767655361664743]}, \"tinfo\": {\"Term\": [\"voting\", \"ballot\", \"test\", \"hungry\", \"looter\", \"kid\", \"health\", \"%\", \"state\", \"law\", \"other\", \"theft\", \"family\", \"trump\", \"free\", \"insurance^\", \"act^\", \"affordable\", \"folk\", \"camera\", \"court\", \"staff\", \"year\", \"-\", \"condition\", \"pre\", \"right\", \"decision\", \"major\", \"site\", \"minimum\", \"wage\", \"worker\", \"chris\", \"claim\", \"com\", \"existing\", \"factchecks/2020\", \"jacob\", \"need\", \"oct/30\", \"economic\", \"expert\", \"great\", \"growth\", \"number\", \"essential\", \"hour\", \"much\", \"majority\", \"mother\", \"result\", \"station\", \"tv\", \"license\", \"photo\", \"plate\", \"important\", \"laptop\", \"%\", \"election\", \"-\", \"condition\", \"ballot\", \"care\", \"driver\", \"earnings^\", \"flexible\", \"personal\", \"protections^\", \"schedule\", \"box\", \"can\", \"suppress\", \"trash\", \"vote\", \"college\", \"person\", \"qualified\", \"counting\", \"inappropriate^\", \"first\", \"seat\", \"signature\", \"thing\", \"state\", \"health\", \"law\", \"year\", \"week\", \"election\", \"time\", \"hungry\", \"%\", \"double\", \"flip\", \"flopping^\", \"incompetent^\", \"insincere^\", \"lying^\", \"radical\", \"socialist\", \"talking^\", \"debt\", \"do\", \"hungry\", \"kid\", \"looter\", \"camera\", \"court\", \"staff\", \"act^\", \"affordable\", \"folk\", \"family\", \"free\", \"insurance^\", \"other\", \"theft\", \"trump\", \"interview\", \"chump\", \"voter\", \"meeting\", \"%\", \"economic\", \"expert\", \"great\", \"growth\", \"number\", \"time\", \"essential\", \"hour\", \"minimum\", \"much\", \"wage\", \"worker\", \"fence\", \"test\", \"college\", \"building\", \"low\", \"school\", \"alcohol\", \"dependent\", \"drug\", \"people\", \"campaign\", \"dreamer\", \"test\", \"year\", \"hungry\", \"kid\", \"looter\", \"camera\", \"court\", \"staff\", \"act^\", \"affordable\", \"folk\", \"family\", \"free\", \"insurance^\", \"other\", \"theft\", \"trump\", \"interview\", \"chump\", \"voter\", \"meeting\", \"%\", \"economic\", \"expert\", \"great\", \"growth\", \"number\", \"time\", \"essential\", \"hour\", \"minimum\", \"much\", \"wage\", \"worker\", \"fence\", \"debt\", \"do\", \"basis\", \"inheritance\", \"taxis\", \"chump\", \"voter\", \"meeting\", \"pandemic\", \"interview\", \"-\", \"condition\", \"pre\", \"time\", \"hungry\", \"kid\", \"looter\", \"camera\", \"court\", \"staff\", \"act^\", \"affordable\", \"folk\", \"family\", \"free\", \"insurance^\", \"other\", \"theft\", \"trump\", \"fence\", \"site\", \"decision\", \"%\", \"economic\", \"expert\", \"great\", \"growth\", \"number\", \"essential\", \"hour\", \"minimum\", \"much\", \"wage\", \"worker\", \"test\", \"debt\", \"do\", \"college\", \"person\", \"voting\", \"decision\", \"major\", \"right\", \"site\", \"fence\", \"test\", \"law\", \"ballot\", \"hungry\", \"kid\", \"looter\", \"camera\", \"court\", \"staff\", \"act^\", \"affordable\", \"folk\", \"family\", \"free\", \"insurance^\", \"other\", \"theft\", \"trump\", \"interview\", \"chump\", \"voter\", \"meeting\", \"pandemic\", \"basis\", \"%\", \"economic\", \"expert\", \"great\", \"growth\", \"number\", \"time\", \"essential\", \"hour\", \"minimum\", \"much\", \"wage\", \"worker\", \"debt\", \"do\", \"college\", \"person\", \"qualified\", \"act^\", \"affordable\", \"folk\", \"camera\", \"court\", \"staff\", \"state\", \"%\", \"hungry\", \"kid\", \"looter\", \"family\", \"free\", \"insurance^\", \"other\", \"theft\", \"trump\", \"interview\", \"chump\", \"voter\", \"meeting\", \"pandemic\", \"basis\", \"inheritance\", \"taxis\", \"fence\", \"site\", \"decision\", \"major\", \"right\", \"economic\", \"expert\", \"great\", \"growth\", \"number\", \"time\", \"essential\", \"hour\", \"minimum\", \"much\", \"wage\", \"worker\", \"test\", \"debt\", \"do\", \"college\", \"person\", \"qualified\", \"family\", \"free\", \"insurance^\", \"other\", \"theft\", \"trump\", \"health\", \"hungry\", \"kid\", \"looter\", \"camera\", \"court\", \"staff\", \"act^\", \"affordable\", \"folk\", \"interview\", \"chump\", \"voter\", \"meeting\", \"pandemic\", \"basis\", \"inheritance\", \"taxis\", \"fence\", \"site\", \"decision\", \"major\", \"right\", \"campaign\", \"%\", \"economic\", \"expert\", \"great\", \"growth\", \"number\", \"time\", \"essential\", \"hour\", \"minimum\", \"much\", \"wage\", \"worker\", \"test\", \"debt\", \"do\", \"college\", \"person\", \"qualified\", \"hungry\", \"kid\", \"looter\", \"camera\", \"court\", \"staff\", \"act^\", \"affordable\", \"folk\", \"family\", \"free\", \"insurance^\", \"other\", \"theft\", \"trump\", \"interview\", \"chump\", \"voter\", \"meeting\", \"pandemic\", \"basis\", \"inheritance\", \"taxis\", \"fence\", \"site\", \"decision\", \"major\", \"right\", \"campaign\", \"dreamer\", \"%\", \"economic\", \"expert\", \"great\", \"growth\", \"number\", \"time\", \"essential\", \"hour\", \"minimum\", \"much\", \"wage\", \"worker\", \"test\", \"debt\", \"do\", \"college\", \"person\", \"qualified\", \"state\", \"year\", \"majority\", \"mother\", \"hungry\", \"kid\", \"looter\", \"camera\", \"court\", \"staff\", \"act^\", \"affordable\", \"folk\", \"family\", \"free\", \"insurance^\", \"other\", \"theft\", \"trump\", \"interview\", \"chump\", \"voter\", \"meeting\", \"pandemic\", \"basis\", \"inheritance\", \"taxis\", \"fence\", \"site\", \"decision\", \"major\", \"right\", \"campaign\", \"dreamer\", \"important\", \"laptop\", \"%\", \"economic\", \"expert\", \"great\", \"growth\", \"number\", \"time\", \"essential\", \"hour\", \"minimum\", \"much\", \"wage\", \"worker\", \"test\", \"debt\", \"do\", \"college\", \"person\", \"qualified\", \"state\", \"year\", \"majority\", \"mother\"], \"Freq\": [1.0, 2.0, 1.0, 0.0, 0.0, 0.0, 1.0, 1.0, 1.0, 1.0, 0.0, 0.0, 0.0, 0.0, 0.0, 0.0, 0.0, 0.0, 0.0, 0.0, 0.0, 0.0, 1.0, 1.0, 1.0, 1.0, 0.0, 0.0, 0.0, 0.0, 1.4897974171798642, 1.4897974171798642, 1.4897974171798642, 0.7803664241040668, 0.7803664241040668, 0.7803664241040668, 0.7803664241040668, 0.7803664241040668, 0.7803664241040668, 0.7803664241040668, 0.7803664241040668, 0.7803660260964901, 0.7803660260964901, 0.7803660260964901, 0.7803660260964901, 0.7803660260964901, 0.7803659597618939, 0.7803659597618939, 0.7803659597618939, 0.7803656944235094, 0.7803656944235094, 0.7803656944235094, 0.7803656944235094, 0.7803656944235094, 0.7803647657391639, 0.7803647657391639, 0.7803647657391639, 0.7803633727126456, 0.7803633727126456, 0.7803593926368789, 0.7803652300813367, 0.7803646994045679, 0.7803646994045679, 2.0849855823088226, 0.7398293814451445, 0.7398293814451445, 0.7398293814451445, 0.7398293814451445, 0.7398293814451445, 0.7398293814451445, 0.7398293814451445, 0.7398291171119511, 0.7398291171119511, 0.7398291171119511, 0.7398291171119511, 0.7398291171119511, 0.739828958512035, 0.739828958512035, 0.739828958512035, 0.7398289056453964, 0.7398289056453964, 0.7398286413122028, 0.7398286413122028, 0.7398281655124547, 0.7398281655124547, 0.7398211871161473, 0.7398244119811075, 0.7398239890479981, 0.7398245705810236, 0.739830491644557, 0.7398292228452285, 0.739820394116567, 0.06725773074322587, 0.06725773074322587, 0.5836262186182808, 0.5836262186182808, 0.5836262186182808, 0.5836262186182808, 0.5836262186182808, 0.5836262186182808, 0.5836262186182808, 0.5836262186182808, 0.5836262186182808, 0.5836253410398995, 0.5836253410398995, 0.05305714387227687, 0.05305714387227687, 0.05305714387227687, 0.05305714387227687, 0.05305714387227687, 0.05305714387227687, 0.05305714387227687, 0.05305714387227687, 0.05305714387227687, 0.05305714387227687, 0.05305714387227687, 0.05305714387227687, 0.05305714387227687, 0.05305714387227687, 0.05305714387227687, 0.05305714387227687, 0.05305714387227687, 0.05305714387227687, 0.05305714387227687, 0.05305714387227687, 0.05305714387227687, 0.05305714387227687, 0.05305714387227687, 0.05305714387227687, 0.05305714387227687, 0.05305714387227687, 0.05305714387227687, 0.05305714387227687, 0.05305714387227687, 0.05305714387227687, 0.05305714387227687, 0.05305714387227687, 0.05305714387227687, 0.05305714387227687, 0.05305714387227687, 0.5448122780876058, 0.5448122780876058, 0.5448122780876058, 0.5448122780876058, 0.5448122780876058, 0.5448122780876058, 0.5448122780876058, 0.5448121142443907, 0.5448121142443907, 0.5448166608936099, 0.5448153501478891, 0.04952861606333056, 0.04952861606333056, 0.04952861606333056, 0.04952861606333056, 0.04952861606333056, 0.04952861606333056, 0.04952861606333056, 0.04952861606333056, 0.04952861606333056, 0.04952861606333056, 0.04952861606333056, 0.04952861606333056, 0.04952861606333056, 0.04952861606333056, 0.04952861606333056, 0.04952861606333056, 0.04952861606333056, 0.04952861606333056, 0.04952861606333056, 0.04952861606333056, 0.04952861606333056, 0.04952861606333056, 0.04952861606333056, 0.04952861606333056, 0.04952861606333056, 0.04952861606333056, 0.04952861606333056, 0.04952861606333056, 0.04952861606333056, 0.04952861606333056, 0.04952861606333056, 0.04952861606333056, 0.04952861606333056, 0.04952861606333056, 0.04952861606333056, 0.5197488625923838, 0.5197488625923838, 0.5197488625923838, 0.5197484542258265, 0.5197484542258265, 0.5197484542258265, 0.5197484542258265, 0.5197469432695643, 0.5197502102020233, 0.5197502102020233, 0.5197502102020233, 0.5197570299235315, 0.047250134194395554, 0.047250134194395554, 0.047250134194395554, 0.047250134194395554, 0.047250134194395554, 0.047250134194395554, 0.047250134194395554, 0.047250134194395554, 0.047250134194395554, 0.047250134194395554, 0.047250134194395554, 0.047250134194395554, 0.047250134194395554, 0.047250134194395554, 0.047250134194395554, 0.047250134194395554, 0.047250134194395554, 0.047250134194395554, 0.047250134194395554, 0.047250134194395554, 0.047250134194395554, 0.047250134194395554, 0.047250134194395554, 0.047250134194395554, 0.047250134194395554, 0.047250134194395554, 0.047250134194395554, 0.047250134194395554, 0.047250134194395554, 0.047250134194395554, 0.047250134194395554, 0.047250134194395554, 0.047250134194395554, 0.047250134194395554, 0.047250134194395554, 1.0000090731168356, 0.5238131195002761, 0.5238131195002761, 0.5238131195002761, 0.5238128186361349, 0.5238124425559586, 0.5238083056740185, 0.5238163913978106, 0.5238125553800115, 0.04761956809584316, 0.04761956809584316, 0.04761956809584316, 0.04761956809584316, 0.04761956809584316, 0.04761956809584316, 0.04761956809584316, 0.04761956809584316, 0.04761956809584316, 0.04761956809584316, 0.04761956809584316, 0.04761956809584316, 0.04761956809584316, 0.04761956809584316, 0.04761956809584316, 0.04761956809584316, 0.04761956809584316, 0.04761956809584316, 0.04761956809584316, 0.04761956809584316, 0.04761956809584316, 0.04761956809584316, 0.04761956809584316, 0.04761956809584316, 0.04761956809584316, 0.04761956809584316, 0.04761956809584316, 0.04761956809584316, 0.04761956809584316, 0.04761956809584316, 0.04761956809584316, 0.04761956809584316, 0.04761956809584316, 0.04761956809584316, 0.04761956809584316, 0.04761956809584316, 0.04761956809584316, 0.04761956809584316, 0.04761956809584316, 0.501988701682455, 0.501988701682455, 0.501988701682455, 0.5019884405542064, 0.5019884405542064, 0.5019884405542064, 0.5019939242474261, 0.5019930429395871, 0.04563550306002943, 0.04563550306002943, 0.04563550306002943, 0.04563550306002943, 0.04563550306002943, 0.04563550306002943, 0.04563550306002943, 0.04563550306002943, 0.04563550306002943, 0.04563550306002943, 0.04563550306002943, 0.04563550306002943, 0.04563550306002943, 0.04563550306002943, 0.04563550306002943, 0.04563550306002943, 0.04563550306002943, 0.04563550306002943, 0.04563550306002943, 0.04563550306002943, 0.04563550306002943, 0.04563550306002943, 0.04563550306002943, 0.04563550306002943, 0.04563550306002943, 0.04563550306002943, 0.04563550306002943, 0.04563550306002943, 0.04563550306002943, 0.04563550306002943, 0.04563550306002943, 0.04563550306002943, 0.04563550306002943, 0.04563550306002943, 0.04563550306002943, 0.04563550306002943, 0.04563550306002943, 0.04563550306002943, 0.04563550306002943, 0.04563550306002943, 0.5119422667768035, 0.5119422667768035, 0.5119422667768035, 0.5119422667768035, 0.5119422667768035, 0.5119422667768035, 0.5119456431041924, 0.046540361691485836, 0.046540361691485836, 0.046540361691485836, 0.046540361691485836, 0.046540361691485836, 0.046540361691485836, 0.046540361691485836, 0.046540361691485836, 0.046540361691485836, 0.046540361691485836, 0.046540361691485836, 0.046540361691485836, 0.046540361691485836, 0.046540361691485836, 0.046540361691485836, 0.046540361691485836, 0.046540361691485836, 0.046540361691485836, 0.046540361691485836, 0.046540361691485836, 0.046540361691485836, 0.046540361691485836, 0.046540361691485836, 0.046540361691485836, 0.046540361691485836, 0.046540361691485836, 0.046540361691485836, 0.046540361691485836, 0.046540361691485836, 0.046540361691485836, 0.046540361691485836, 0.046540361691485836, 0.046540361691485836, 0.046540361691485836, 0.046540361691485836, 0.046540361691485836, 0.046540361691485836, 0.046540361691485836, 0.046540361691485836, 0.046540361691485836, 0.046540361691485836, 0.046540361691485836, 0.3559753099821549, 0.3559753099821549, 0.3559753099821549, 0.03236149453015924, 0.03236149453015924, 0.03236149453015924, 0.03236149453015924, 0.03236149453015924, 0.03236149453015924, 0.03236149453015924, 0.03236149453015924, 0.03236149453015924, 0.03236149453015924, 0.03236149453015924, 0.03236149453015924, 0.03236149453015924, 0.03236149453015924, 0.03236149453015924, 0.03236149453015924, 0.03236149453015924, 0.03236149453015924, 0.03236149453015924, 0.03236149453015924, 0.03236149453015924, 0.03236149453015924, 0.03236149453015924, 0.03236149453015924, 0.03236149453015924, 0.03236149453015924, 0.03236149453015924, 0.03236149453015924, 0.03236149453015924, 0.03236149453015924, 0.03236149453015924, 0.03236149453015924, 0.03236149453015924, 0.03236149453015924, 0.03236149453015924, 0.03236149453015924, 0.03236149453015924, 0.03236149453015924, 0.03236149453015924, 0.03236149453015924, 0.03236149453015924, 0.03236149453015924, 0.03236149453015924, 0.03236149453015924, 0.03236149453015924, 0.03236149453015924, 0.03236149453015924, 0.03236149453015924, 0.03236149453015924, 0.03236149453015924, 0.020940447934818578, 0.020940447934818578, 0.020940447934818578, 0.020940447934818578, 0.020940447934818578, 0.020940447934818578, 0.020940447934818578, 0.020940447934818578, 0.020940447934818578, 0.020940447934818578, 0.020940447934818578, 0.020940447934818578, 0.020940447934818578, 0.020940447934818578, 0.020940447934818578, 0.020940450119077865, 0.020940447934818578, 0.020940447934818578, 0.020940447934818578, 0.020940447934818578, 0.020940447934818578, 0.020940447934818578, 0.020940447934818578, 0.020940447934818578, 0.020940447934818578, 0.020940447934818578, 0.020940447934818578, 0.020940447934818578, 0.020940447934818578, 0.020940447934818578, 0.020940450119077865, 0.020940450119077865, 0.020940447934818578, 0.020940447934818578, 0.020940447934818578, 0.020940447934818578, 0.020940447934818578, 0.020940447934818578, 0.020940447934818578, 0.020940447934818578, 0.020940447934818578, 0.020940447934818578, 0.020940447934818578, 0.020940447934818578, 0.020940447934818578, 0.020940447934818578, 0.020940447934818578, 0.020940447934818578, 0.020940447934818578, 0.020940447934818578, 0.020940447934818578, 0.020940447934818578, 0.020940447934818578, 0.020940447934818578, 0.020940447934818578], \"Total\": [1.0, 2.0, 1.0, 0.0, 0.0, 0.0, 1.0, 1.0, 1.0, 1.0, 0.0, 0.0, 0.0, 0.0, 0.0, 0.0, 0.0, 0.0, 0.0, 0.0, 0.0, 0.0, 1.0, 1.0, 1.0, 1.0, 0.0, 0.0, 0.0, 0.0, 1.8999884173654293, 1.8999884173654293, 1.8999884173654293, 1.190557424289632, 1.190557424289632, 1.190557424289632, 1.190557424289632, 1.190557424289632, 1.190557424289632, 1.190557424289632, 1.190557424289632, 1.1905570262820553, 1.1905570262820553, 1.1905570262820553, 1.1905570262820553, 1.1905570262820553, 1.1905569599474592, 1.1905569599474592, 1.1905569599474592, 1.1905566946090747, 1.1905566946090747, 1.1905566946090747, 1.1905566946090747, 1.1905566946090747, 1.1905557659247292, 1.1905557659247292, 1.1905557659247292, 1.19055437508247, 1.19055437508247, 1.6469079327020015, 1.8631277223689047, 1.6630557755977606, 1.6630557755977606, 2.9750548736666786, 1.1537056855188323, 1.1537056855188323, 1.1537056855188323, 1.1537056855188323, 1.1537056855188323, 1.1537056855188323, 1.1537056855188323, 1.1537054211856388, 1.1537054211856388, 1.1537054211856388, 1.1537054211856388, 1.1537054211856388, 1.153705262585723, 1.153705262585723, 1.153705262585723, 1.1537052097190843, 1.1537052097190843, 1.1537049453858907, 1.1537049453858907, 1.1537044695861427, 1.1537044695861427, 1.6100559123772316, 1.6191059974675017, 1.6298971164236535, 1.64898760873927, 1.8631278634800994, 1.8631277223689047, 2.3356233349893234, 0.8047478502689092, 1.6469079327020015, 1.0117031095629174, 1.0117031095629174, 1.0117031095629174, 1.0117031095629174, 1.0117031095629174, 1.0117031095629174, 1.0117031095629174, 1.0117031095629174, 1.0117031095629174, 1.0117022319845361, 1.0117022319845361, 0.8047478502689092, 0.8047478502689092, 0.8047478502689092, 0.9374869723110906, 0.9374869723110906, 0.9374869723110906, 0.9374872334393392, 0.9374872334393392, 0.9374872334393392, 0.9465359399022313, 0.9465359399022313, 0.9465359399022313, 0.9465359399022313, 0.9465359399022313, 0.9465359399022313, 0.9536308460763415, 0.9536323548483444, 0.9536323548483444, 0.9536323548483444, 1.6469079327020015, 1.1905570262820553, 1.1905570262820553, 1.1905570262820553, 1.1905570262820553, 1.1905570262820553, 2.3356233349893234, 1.1905569599474592, 1.1905569599474592, 1.8999884173654293, 1.1905569599474592, 1.8999884173654293, 1.8999884173654293, 0.9573269092770289, 1.4526108172253687, 1.153705262585723, 0.9764176968411887, 0.9764176968411887, 0.9764176968411887, 0.9764176968411887, 0.9764176968411887, 0.9764176968411887, 0.9764176968411887, 0.9764175329979735, 0.9764175329979735, 1.4526108172253687, 1.64898760873927, 0.8047478502689092, 0.8047478502689092, 0.8047478502689092, 0.9374869723110906, 0.9374869723110906, 0.9374869723110906, 0.9374872334393392, 0.9374872334393392, 0.9374872334393392, 0.9465359399022313, 0.9465359399022313, 0.9465359399022313, 0.9465359399022313, 0.9465359399022313, 0.9465359399022313, 0.9536308460763415, 0.9536323548483444, 0.9536323548483444, 0.9536323548483444, 1.6469079327020015, 1.1905570262820553, 1.1905570262820553, 1.1905570262820553, 1.1905570262820553, 1.1905570262820553, 2.3356233349893234, 1.1905569599474592, 1.1905569599474592, 1.8999884173654293, 1.1905569599474592, 1.8999884173654293, 1.8999884173654293, 0.9573269092770289, 1.0117022319845361, 1.0117022319845361, 0.9536327632149018, 0.9536327632149018, 0.9536327632149018, 0.9536323548483444, 0.9536323548483444, 0.9536323548483444, 0.9536323548483444, 0.9536308460763415, 1.6630557755977606, 1.6630557755977606, 1.6630557755977606, 2.3356233349893234, 0.8047478502689092, 0.8047478502689092, 0.8047478502689092, 0.9374869723110906, 0.9374869723110906, 0.9374869723110906, 0.9374872334393392, 0.9374872334393392, 0.9374872334393392, 0.9465359399022313, 0.9465359399022313, 0.9465359399022313, 0.9465359399022313, 0.9465359399022313, 0.9465359399022313, 0.9573269092770289, 0.9573272853572052, 0.9573275862213464, 1.6469079327020015, 1.1905570262820553, 1.1905570262820553, 1.1905570262820553, 1.1905570262820553, 1.1905570262820553, 1.1905569599474592, 1.1905569599474592, 1.8999884173654293, 1.1905569599474592, 1.8999884173654293, 1.8999884173654293, 1.4526108172253687, 1.0117022319845361, 1.0117022319845361, 1.153705262585723, 1.153705262585723, 1.433523539837906, 0.9573275862213464, 0.9573275862213464, 0.9573275862213464, 0.9573272853572052, 0.9573269092770289, 1.4526108172253687, 1.6298971164236535, 2.9750548736666786, 0.8047478502689092, 0.8047478502689092, 0.8047478502689092, 0.9374869723110906, 0.9374869723110906, 0.9374869723110906, 0.9374872334393392, 0.9374872334393392, 0.9374872334393392, 0.9465359399022313, 0.9465359399022313, 0.9465359399022313, 0.9465359399022313, 0.9465359399022313, 0.9465359399022313, 0.9536308460763415, 0.9536323548483444, 0.9536323548483444, 0.9536323548483444, 0.9536323548483444, 0.9536327632149018, 1.6469079327020015, 1.1905570262820553, 1.1905570262820553, 1.1905570262820553, 1.1905570262820553, 1.1905570262820553, 2.3356233349893234, 1.1905569599474592, 1.1905569599474592, 1.8999884173654293, 1.1905569599474592, 1.8999884173654293, 1.8999884173654293, 1.0117022319845361, 1.0117022319845361, 1.153705262585723, 1.153705262585723, 1.153705262585723, 0.9374872334393392, 0.9374872334393392, 0.9374872334393392, 0.9374869723110906, 0.9374869723110906, 0.9374869723110906, 1.6100559123772316, 1.6469079327020015, 0.8047478502689092, 0.8047478502689092, 0.8047478502689092, 0.9465359399022313, 0.9465359399022313, 0.9465359399022313, 0.9465359399022313, 0.9465359399022313, 0.9465359399022313, 0.9536308460763415, 0.9536323548483444, 0.9536323548483444, 0.9536323548483444, 0.9536323548483444, 0.9536327632149018, 0.9536327632149018, 0.9536327632149018, 0.9573269092770289, 0.9573272853572052, 0.9573275862213464, 0.9573275862213464, 0.9573275862213464, 1.1905570262820553, 1.1905570262820553, 1.1905570262820553, 1.1905570262820553, 1.1905570262820553, 2.3356233349893234, 1.1905569599474592, 1.1905569599474592, 1.8999884173654293, 1.1905569599474592, 1.8999884173654293, 1.8999884173654293, 1.4526108172253687, 1.0117022319845361, 1.0117022319845361, 1.153705262585723, 1.153705262585723, 1.153705262585723, 0.9465359399022313, 0.9465359399022313, 0.9465359399022313, 0.9465359399022313, 0.9465359399022313, 0.9465359399022313, 1.6191059974675017, 0.8047478502689092, 0.8047478502689092, 0.8047478502689092, 0.9374869723110906, 0.9374869723110906, 0.9374869723110906, 0.9374872334393392, 0.9374872334393392, 0.9374872334393392, 0.9536308460763415, 0.9536323548483444, 0.9536323548483444, 0.9536323548483444, 0.9536323548483444, 0.9536327632149018, 0.9536327632149018, 0.9536327632149018, 0.9573269092770289, 0.9573272853572052, 0.9573275862213464, 0.9573275862213464, 0.9573275862213464, 0.9764175329979735, 1.6469079327020015, 1.1905570262820553, 1.1905570262820553, 1.1905570262820553, 1.1905570262820553, 1.1905570262820553, 2.3356233349893234, 1.1905569599474592, 1.1905569599474592, 1.8999884173654293, 1.1905569599474592, 1.8999884173654293, 1.8999884173654293, 1.4526108172253687, 1.0117022319845361, 1.0117022319845361, 1.153705262585723, 1.153705262585723, 1.153705262585723, 0.8047478502689092, 0.8047478502689092, 0.8047478502689092, 0.9374869723110906, 0.9374869723110906, 0.9374869723110906, 0.9374872334393392, 0.9374872334393392, 0.9374872334393392, 0.9465359399022313, 0.9465359399022313, 0.9465359399022313, 0.9465359399022313, 0.9465359399022313, 0.9465359399022313, 0.9536308460763415, 0.9536323548483444, 0.9536323548483444, 0.9536323548483444, 0.9536323548483444, 0.9536327632149018, 0.9536327632149018, 0.9536327632149018, 0.9573269092770289, 0.9573272853572052, 0.9573275862213464, 0.9573275862213464, 0.9573275862213464, 0.9764175329979735, 0.9764175329979735, 1.6469079327020015, 1.1905570262820553, 1.1905570262820553, 1.1905570262820553, 1.1905570262820553, 1.1905570262820553, 2.3356233349893234, 1.1905569599474592, 1.1905569599474592, 1.8999884173654293, 1.1905569599474592, 1.8999884173654293, 1.8999884173654293, 1.4526108172253687, 1.0117022319845361, 1.0117022319845361, 1.153705262585723, 1.153705262585723, 1.153705262585723, 1.6100559123772316, 1.64898760873927, 1.1905566946090747, 1.1905566946090747, 0.8047478502689092, 0.8047478502689092, 0.8047478502689092, 0.9374869723110906, 0.9374869723110906, 0.9374869723110906, 0.9374872334393392, 0.9374872334393392, 0.9374872334393392, 0.9465359399022313, 0.9465359399022313, 0.9465359399022313, 0.9465359399022313, 0.9465359399022313, 0.9465359399022313, 0.9536308460763415, 0.9536323548483444, 0.9536323548483444, 0.9536323548483444, 0.9536323548483444, 0.9536327632149018, 0.9536327632149018, 0.9536327632149018, 0.9573269092770289, 0.9573272853572052, 0.9573275862213464, 0.9573275862213464, 0.9573275862213464, 0.9764175329979735, 0.9764175329979735, 1.19055437508247, 1.19055437508247, 1.6469079327020015, 1.1905570262820553, 1.1905570262820553, 1.1905570262820553, 1.1905570262820553, 1.1905570262820553, 2.3356233349893234, 1.1905569599474592, 1.1905569599474592, 1.8999884173654293, 1.1905569599474592, 1.8999884173654293, 1.8999884173654293, 1.4526108172253687, 1.0117022319845361, 1.0117022319845361, 1.153705262585723, 1.153705262585723, 1.153705262585723, 1.6100559123772316, 1.64898760873927, 1.1905566946090747, 1.1905566946090747], \"Category\": [\"Default\", \"Default\", \"Default\", \"Default\", \"Default\", \"Default\", \"Default\", \"Default\", \"Default\", \"Default\", \"Default\", \"Default\", \"Default\", \"Default\", \"Default\", \"Default\", \"Default\", \"Default\", \"Default\", \"Default\", \"Default\", \"Default\", \"Default\", \"Default\", \"Default\", \"Default\", \"Default\", \"Default\", \"Default\", \"Default\", \"Topic1\", \"Topic1\", \"Topic1\", \"Topic1\", \"Topic1\", \"Topic1\", \"Topic1\", \"Topic1\", \"Topic1\", \"Topic1\", \"Topic1\", \"Topic1\", \"Topic1\", \"Topic1\", \"Topic1\", \"Topic1\", \"Topic1\", \"Topic1\", \"Topic1\", \"Topic1\", \"Topic1\", \"Topic1\", \"Topic1\", \"Topic1\", \"Topic1\", \"Topic1\", \"Topic1\", \"Topic1\", \"Topic1\", \"Topic1\", \"Topic1\", \"Topic1\", \"Topic1\", \"Topic2\", \"Topic2\", \"Topic2\", \"Topic2\", \"Topic2\", \"Topic2\", \"Topic2\", \"Topic2\", \"Topic2\", \"Topic2\", \"Topic2\", \"Topic2\", \"Topic2\", \"Topic2\", \"Topic2\", \"Topic2\", \"Topic2\", \"Topic2\", \"Topic2\", \"Topic2\", \"Topic2\", \"Topic2\", \"Topic2\", \"Topic2\", \"Topic2\", \"Topic2\", \"Topic2\", \"Topic2\", \"Topic2\", \"Topic2\", \"Topic2\", \"Topic3\", \"Topic3\", \"Topic3\", \"Topic3\", \"Topic3\", \"Topic3\", \"Topic3\", \"Topic3\", \"Topic3\", \"Topic3\", \"Topic3\", \"Topic3\", \"Topic3\", \"Topic3\", \"Topic3\", \"Topic3\", \"Topic3\", \"Topic3\", \"Topic3\", \"Topic3\", \"Topic3\", \"Topic3\", \"Topic3\", \"Topic3\", \"Topic3\", \"Topic3\", \"Topic3\", \"Topic3\", \"Topic3\", \"Topic3\", \"Topic3\", \"Topic3\", \"Topic3\", \"Topic3\", \"Topic3\", \"Topic3\", \"Topic3\", \"Topic3\", \"Topic3\", \"Topic3\", \"Topic3\", \"Topic3\", \"Topic3\", \"Topic3\", \"Topic3\", \"Topic3\", \"Topic4\", \"Topic4\", \"Topic4\", \"Topic4\", \"Topic4\", \"Topic4\", \"Topic4\", \"Topic4\", \"Topic4\", \"Topic4\", \"Topic4\", \"Topic4\", \"Topic4\", \"Topic4\", \"Topic4\", \"Topic4\", \"Topic4\", \"Topic4\", \"Topic4\", \"Topic4\", \"Topic4\", \"Topic4\", \"Topic4\", \"Topic4\", \"Topic4\", \"Topic4\", \"Topic4\", \"Topic4\", \"Topic4\", \"Topic4\", \"Topic4\", \"Topic4\", \"Topic4\", \"Topic4\", \"Topic4\", \"Topic4\", \"Topic4\", \"Topic4\", \"Topic4\", \"Topic4\", \"Topic4\", \"Topic4\", \"Topic4\", \"Topic4\", \"Topic4\", \"Topic4\", \"Topic5\", \"Topic5\", \"Topic5\", \"Topic5\", \"Topic5\", \"Topic5\", \"Topic5\", \"Topic5\", \"Topic5\", \"Topic5\", \"Topic5\", \"Topic5\", \"Topic5\", \"Topic5\", \"Topic5\", \"Topic5\", \"Topic5\", \"Topic5\", \"Topic5\", \"Topic5\", \"Topic5\", \"Topic5\", \"Topic5\", \"Topic5\", \"Topic5\", \"Topic5\", \"Topic5\", \"Topic5\", \"Topic5\", \"Topic5\", \"Topic5\", \"Topic5\", \"Topic5\", \"Topic5\", \"Topic5\", \"Topic5\", \"Topic5\", \"Topic5\", \"Topic5\", \"Topic5\", \"Topic5\", \"Topic5\", \"Topic5\", \"Topic5\", \"Topic5\", \"Topic5\", \"Topic5\", \"Topic6\", \"Topic6\", \"Topic6\", \"Topic6\", \"Topic6\", \"Topic6\", \"Topic6\", \"Topic6\", \"Topic6\", \"Topic6\", \"Topic6\", \"Topic6\", \"Topic6\", \"Topic6\", \"Topic6\", \"Topic6\", \"Topic6\", \"Topic6\", \"Topic6\", \"Topic6\", \"Topic6\", \"Topic6\", \"Topic6\", \"Topic6\", \"Topic6\", \"Topic6\", \"Topic6\", \"Topic6\", \"Topic6\", \"Topic6\", \"Topic6\", \"Topic6\", \"Topic6\", \"Topic6\", \"Topic6\", \"Topic6\", \"Topic6\", \"Topic6\", \"Topic6\", \"Topic6\", \"Topic6\", \"Topic6\", \"Topic6\", \"Topic6\", \"Topic6\", \"Topic6\", \"Topic6\", \"Topic6\", \"Topic7\", \"Topic7\", \"Topic7\", \"Topic7\", \"Topic7\", \"Topic7\", \"Topic7\", \"Topic7\", \"Topic7\", \"Topic7\", \"Topic7\", \"Topic7\", \"Topic7\", \"Topic7\", \"Topic7\", \"Topic7\", \"Topic7\", \"Topic7\", \"Topic7\", \"Topic7\", \"Topic7\", \"Topic7\", \"Topic7\", \"Topic7\", \"Topic7\", \"Topic7\", \"Topic7\", \"Topic7\", \"Topic7\", \"Topic7\", \"Topic7\", \"Topic7\", \"Topic7\", \"Topic7\", \"Topic7\", \"Topic7\", \"Topic7\", \"Topic7\", \"Topic7\", \"Topic7\", \"Topic7\", \"Topic7\", \"Topic7\", \"Topic7\", \"Topic7\", \"Topic7\", \"Topic7\", \"Topic7\", \"Topic8\", \"Topic8\", \"Topic8\", \"Topic8\", \"Topic8\", \"Topic8\", \"Topic8\", \"Topic8\", \"Topic8\", \"Topic8\", \"Topic8\", \"Topic8\", \"Topic8\", \"Topic8\", \"Topic8\", \"Topic8\", \"Topic8\", \"Topic8\", \"Topic8\", \"Topic8\", \"Topic8\", \"Topic8\", \"Topic8\", \"Topic8\", \"Topic8\", \"Topic8\", \"Topic8\", \"Topic8\", \"Topic8\", \"Topic8\", \"Topic8\", \"Topic8\", \"Topic8\", \"Topic8\", \"Topic8\", \"Topic8\", \"Topic8\", \"Topic8\", \"Topic8\", \"Topic8\", \"Topic8\", \"Topic8\", \"Topic8\", \"Topic8\", \"Topic8\", \"Topic8\", \"Topic8\", \"Topic8\", \"Topic8\", \"Topic9\", \"Topic9\", \"Topic9\", \"Topic9\", \"Topic9\", \"Topic9\", \"Topic9\", \"Topic9\", \"Topic9\", \"Topic9\", \"Topic9\", \"Topic9\", \"Topic9\", \"Topic9\", \"Topic9\", \"Topic9\", \"Topic9\", \"Topic9\", \"Topic9\", \"Topic9\", \"Topic9\", \"Topic9\", \"Topic9\", \"Topic9\", \"Topic9\", \"Topic9\", \"Topic9\", \"Topic9\", \"Topic9\", \"Topic9\", \"Topic9\", \"Topic9\", \"Topic9\", \"Topic9\", \"Topic9\", \"Topic9\", \"Topic9\", \"Topic9\", \"Topic9\", \"Topic9\", \"Topic9\", \"Topic9\", \"Topic9\", \"Topic9\", \"Topic9\", \"Topic9\", \"Topic9\", \"Topic9\", \"Topic9\", \"Topic9\", \"Topic9\", \"Topic9\", \"Topic9\", \"Topic10\", \"Topic10\", \"Topic10\", \"Topic10\", \"Topic10\", \"Topic10\", \"Topic10\", \"Topic10\", \"Topic10\", \"Topic10\", \"Topic10\", \"Topic10\", \"Topic10\", \"Topic10\", \"Topic10\", \"Topic10\", \"Topic10\", \"Topic10\", \"Topic10\", \"Topic10\", \"Topic10\", \"Topic10\", \"Topic10\", \"Topic10\", \"Topic10\", \"Topic10\", \"Topic10\", \"Topic10\", \"Topic10\", \"Topic10\", \"Topic10\", \"Topic10\", \"Topic10\", \"Topic10\", \"Topic10\", \"Topic10\", \"Topic10\", \"Topic10\", \"Topic10\", \"Topic10\", \"Topic10\", \"Topic10\", \"Topic10\", \"Topic10\", \"Topic10\", \"Topic10\", \"Topic10\", \"Topic10\", \"Topic10\", \"Topic10\", \"Topic10\", \"Topic10\", \"Topic10\", \"Topic10\", \"Topic10\"], \"logprob\": [30.0, 29.0, 28.0, 27.0, 26.0, 25.0, 24.0, 23.0, 22.0, 21.0, 20.0, 19.0, 18.0, 17.0, 16.0, 15.0, 14.0, 13.0, 12.0, 11.0, 10.0, 9.0, 8.0, 7.0, 6.0, 5.0, 4.0, 3.0, 2.0, 1.0, -3.1741, -3.1741, -3.1741, -3.8207, -3.8207, -3.8207, -3.8207, -3.8207, -3.8207, -3.8207, -3.8207, -3.8207, -3.8207, -3.8207, -3.8207, -3.8207, -3.8207, -3.8207, -3.8207, -3.8207, -3.8207, -3.8207, -3.8207, -3.8207, -3.8207, -3.8207, -3.8207, -3.8207, -3.8207, -3.8207, -3.8207, -3.8207, -3.8207, -2.611, -3.6471, -3.6471, -3.6471, -3.6471, -3.6471, -3.6471, -3.6471, -3.6471, -3.6471, -3.6471, -3.6471, -3.6471, -3.6471, -3.6471, -3.6471, -3.6471, -3.6471, -3.6471, -3.6471, -3.6471, -3.6471, -3.6471, -3.6471, -3.6471, -3.6471, -3.6471, -3.6471, -3.6471, -6.045, -6.045, -3.0048, -3.0048, -3.0048, -3.0048, -3.0048, -3.0048, -3.0048, -3.0048, -3.0048, -3.0048, -3.0048, -5.4027, -5.4027, -5.4027, -5.4027, -5.4027, -5.4027, -5.4027, -5.4027, -5.4027, -5.4027, -5.4027, -5.4027, -5.4027, -5.4027, -5.4027, -5.4027, -5.4027, -5.4027, -5.4027, -5.4027, -5.4027, -5.4027, -5.4027, -5.4027, -5.4027, -5.4027, -5.4027, -5.4027, -5.4027, -5.4027, -5.4027, -5.4027, -5.4027, -5.4027, -5.4027, -3.0048, -3.0048, -3.0048, -3.0048, -3.0048, -3.0048, -3.0048, -3.0048, -3.0048, -3.0048, -3.0048, -5.4027, -5.4027, -5.4027, -5.4027, -5.4027, -5.4027, -5.4027, -5.4027, -5.4027, -5.4027, -5.4027, -5.4027, -5.4027, -5.4027, -5.4027, -5.4027, -5.4027, -5.4027, -5.4027, -5.4027, -5.4027, -5.4027, -5.4027, -5.4027, -5.4027, -5.4027, -5.4027, -5.4027, -5.4027, -5.4027, -5.4027, -5.4027, -5.4027, -5.4027, -5.4027, -3.0488, -3.0488, -3.0488, -3.0488, -3.0488, -3.0488, -3.0488, -3.0488, -3.0488, -3.0488, -3.0488, -3.0488, -5.4467, -5.4467, -5.4467, -5.4467, -5.4467, -5.4467, -5.4467, -5.4467, -5.4467, -5.4467, -5.4467, -5.4467, -5.4467, -5.4467, -5.4467, -5.4467, -5.4467, -5.4467, -5.4467, -5.4467, -5.4467, -5.4467, -5.4467, -5.4467, -5.4467, -5.4467, -5.4467, -5.4467, -5.4467, -5.4467, -5.4467, -5.4467, -5.4467, -5.4467, -5.4467, -2.3121, -2.9587, -2.9587, -2.9587, -2.9587, -2.9587, -2.9587, -2.9587, -2.9587, -5.3566, -5.3566, -5.3566, -5.3566, -5.3566, -5.3566, -5.3566, -5.3566, -5.3566, -5.3566, -5.3566, -5.3566, -5.3566, -5.3566, -5.3566, -5.3566, -5.3566, -5.3566, -5.3566, -5.3566, -5.3566, -5.3566, -5.3566, -5.3566, -5.3566, -5.3566, -5.3566, -5.3566, -5.3566, -5.3566, -5.3566, -5.3566, -5.3566, -5.3566, -5.3566, -5.3566, -5.3566, -5.3566, -5.3566, -2.8596, -2.8596, -2.8596, -2.8596, -2.8596, -2.8596, -2.8596, -2.8596, -5.2575, -5.2575, -5.2575, -5.2575, -5.2575, -5.2575, -5.2575, -5.2575, -5.2575, -5.2575, -5.2575, -5.2575, -5.2575, -5.2575, -5.2575, -5.2575, -5.2575, -5.2575, -5.2575, -5.2575, -5.2575, -5.2575, -5.2575, -5.2575, -5.2575, -5.2575, -5.2575, -5.2575, -5.2575, -5.2575, -5.2575, -5.2575, -5.2575, -5.2575, -5.2575, -5.2575, -5.2575, -5.2575, -5.2575, -5.2575, -2.8061, -2.8061, -2.8061, -2.8061, -2.8061, -2.8061, -2.8061, -5.204, -5.204, -5.204, -5.204, -5.204, -5.204, -5.204, -5.204, -5.204, -5.204, -5.204, -5.204, -5.204, -5.204, -5.204, -5.204, -5.204, -5.204, -5.204, -5.204, -5.204, -5.204, -5.204, -5.204, -5.204, -5.204, -5.204, -5.204, -5.204, -5.204, -5.204, -5.204, -5.204, -5.204, -5.204, -5.204, -5.204, -5.204, -5.204, -5.204, -5.204, -5.204, -2.5579, -2.5579, -2.5579, -4.9558, -4.9558, -4.9558, -4.9558, -4.9558, -4.9558, -4.9558, -4.9558, -4.9558, -4.9558, -4.9558, -4.9558, -4.9558, -4.9558, -4.9558, -4.9558, -4.9558, -4.9558, -4.9558, -4.9558, -4.9558, -4.9558, -4.9558, -4.9558, -4.9558, -4.9558, -4.9558, -4.9558, -4.9558, -4.9558, -4.9558, -4.9558, -4.9558, -4.9558, -4.9558, -4.9558, -4.9558, -4.9558, -4.9558, -4.9558, -4.9558, -4.9558, -4.9558, -4.9558, -4.9558, -4.9558, -4.9558, -4.9558, -4.9558, -4.9558, -4.7185, -4.7185, -4.7185, -4.7185, -4.7185, -4.7185, -4.7185, -4.7185, -4.7185, -4.7185, -4.7185, -4.7185, -4.7185, -4.7185, -4.7185, -4.7185, -4.7185, -4.7185, -4.7185, -4.7185, -4.7185, -4.7185, -4.7185, -4.7185, -4.7185, -4.7185, -4.7185, -4.7185, -4.7185, -4.7185, -4.7185, -4.7185, -4.7185, -4.7185, -4.7185, -4.7185, -4.7185, -4.7185, -4.7185, -4.7185, -4.7185, -4.7185, -4.7185, -4.7185, -4.7185, -4.7185, -4.7185, -4.7185, -4.7185, -4.7185, -4.7185, -4.7185, -4.7185, -4.7185, -4.7185], \"loglift\": [30.0, 29.0, 28.0, 27.0, 26.0, 25.0, 24.0, 23.0, 22.0, 21.0, 20.0, 19.0, 18.0, 17.0, 16.0, 15.0, 14.0, 13.0, 12.0, 11.0, 10.0, 9.0, 8.0, 7.0, 6.0, 5.0, 4.0, 3.0, 2.0, 1.0, 1.0669, 1.0669, 1.0669, 0.8877, 0.8877, 0.8877, 0.8877, 0.8877, 0.8877, 0.8877, 0.8877, 0.8877, 0.8877, 0.8877, 0.8877, 0.8877, 0.8877, 0.8877, 0.8877, 0.8877, 0.8877, 0.8877, 0.8877, 0.8877, 0.8877, 0.8877, 0.8877, 0.8877, 0.8877, 0.5632, 0.4398, 0.5534, 0.5534, 1.1815, 1.0927, 1.0927, 1.0927, 1.0927, 1.0927, 1.0927, 1.0927, 1.0927, 1.0927, 1.0927, 1.0927, 1.0927, 1.0927, 1.0927, 1.0927, 1.0927, 1.0927, 1.0927, 1.0927, 1.0927, 1.0927, 0.7594, 0.7538, 0.7472, 0.7355, 0.6134, 0.6134, 0.3874, -0.945, -1.6611, 1.8664, 1.8664, 1.8664, 1.8664, 1.8664, 1.8664, 1.8664, 1.8664, 1.8664, 1.8664, 1.8664, -0.3026, -0.3026, -0.3026, -0.4553, -0.4553, -0.4553, -0.4553, -0.4553, -0.4553, -0.4649, -0.4649, -0.4649, -0.4649, -0.4649, -0.4649, -0.4724, -0.4724, -0.4724, -0.4724, -1.0188, -0.6943, -0.6943, -0.6943, -0.6943, -0.6943, -1.3682, -0.6943, -0.6943, -1.1617, -0.6943, -1.1617, -1.1617, -0.4763, -0.8932, -0.6629, 1.9019, 1.9019, 1.9019, 1.9019, 1.9019, 1.9019, 1.9019, 1.9019, 1.9019, 1.5047, 1.3779, -0.3026, -0.3026, -0.3026, -0.4553, -0.4553, -0.4553, -0.4553, -0.4553, -0.4553, -0.4649, -0.4649, -0.4649, -0.4649, -0.4649, -0.4649, -0.4724, -0.4724, -0.4724, -0.4724, -1.0188, -0.6943, -0.6943, -0.6943, -0.6943, -0.6943, -1.3682, -0.6943, -0.6943, -1.1617, -0.6943, -1.1617, -1.1617, -0.4763, -0.5315, -0.5315, 1.8814, 1.8814, 1.8814, 1.8814, 1.8814, 1.8814, 1.8814, 1.8814, 1.3253, 1.3253, 1.3253, 0.9857, -0.3467, -0.3467, -0.3467, -0.4994, -0.4994, -0.4994, -0.4994, -0.4994, -0.4994, -0.509, -0.509, -0.509, -0.509, -0.509, -0.509, -0.5203, -0.5203, -0.5203, -1.0628, -0.7384, -0.7384, -0.7384, -0.7384, -0.7384, -0.7384, -0.7384, -1.2058, -0.7384, -1.2058, -1.2058, -0.9373, -0.5756, -0.5756, -0.7069, -0.7069, 2.2106, 1.9677, 1.9677, 1.9677, 1.9677, 1.9677, 1.5507, 1.4356, 0.8338, -0.2566, -0.2566, -0.2566, -0.4092, -0.4092, -0.4092, -0.4092, -0.4092, -0.4092, -0.4188, -0.4188, -0.4188, -0.4188, -0.4188, -0.4188, -0.4263, -0.4263, -0.4263, -0.4263, -0.4263, -0.4263, -0.9727, -0.6482, -0.6482, -0.6482, -0.6482, -0.6482, -1.3221, -0.6482, -0.6482, -1.1156, -0.6482, -1.1156, -1.1156, -0.4854, -0.4854, -0.6168, -0.6168, -0.6168, 2.0878, 2.0878, 2.0878, 2.0878, 2.0878, 2.0878, 1.5469, 1.5243, -0.1575, -0.1575, -0.1575, -0.3197, -0.3197, -0.3197, -0.3197, -0.3197, -0.3197, -0.3272, -0.3272, -0.3272, -0.3272, -0.3272, -0.3272, -0.3272, -0.3272, -0.3311, -0.3311, -0.3311, -0.3311, -0.3311, -0.5491, -0.5491, -0.5491, -0.5491, -0.5491, -1.223, -0.5491, -0.5491, -1.0165, -0.5491, -1.0165, -1.0165, -0.7481, -0.3863, -0.3863, -0.5177, -0.5177, -0.5177, 2.1316, 2.1316, 2.1316, 2.1316, 2.1316, 2.1316, 1.5948, -0.104, -0.104, -0.104, -0.2567, -0.2567, -0.2567, -0.2567, -0.2567, -0.2567, -0.2737, -0.2737, -0.2737, -0.2737, -0.2737, -0.2737, -0.2737, -0.2737, -0.2776, -0.2776, -0.2776, -0.2776, -0.2776, -0.2973, -0.8201, -0.4956, -0.4956, -0.4956, -0.4956, -0.4956, -1.1695, -0.4956, -0.4956, -0.9631, -0.4956, -0.9631, -0.9631, -0.6946, -0.3328, -0.3328, -0.4642, -0.4642, -0.4642, 2.5421, 2.5421, 2.5421, -0.0085, -0.0085, -0.0085, -0.0085, -0.0085, -0.0085, -0.0181, -0.0181, -0.0181, -0.0181, -0.0181, -0.0181, -0.0255, -0.0255, -0.0255, -0.0255, -0.0255, -0.0255, -0.0255, -0.0255, -0.0294, -0.0294, -0.0294, -0.0294, -0.0294, -0.0492, -0.0492, -0.5719, -0.2474, -0.2474, -0.2474, -0.2474, -0.2474, -0.9213, -0.2474, -0.2474, -0.7149, -0.2474, -0.7149, -0.7149, -0.4464, -0.0847, -0.0847, -0.216, -0.216, -0.216, -0.5493, -0.5732, -0.2474, -0.2474, 0.3815, 0.3815, 0.3815, 0.2289, 0.2289, 0.2289, 0.2289, 0.2289, 0.2289, 0.2192, 0.2192, 0.2192, 0.2192, 0.2192, 0.2192, 0.2118, 0.2118, 0.2118, 0.2118, 0.2118, 0.2118, 0.2118, 0.2118, 0.2079, 0.2079, 0.2079, 0.2079, 0.2079, 0.1882, 0.1882, -0.0101, -0.0101, -0.3346, -0.0101, -0.0101, -0.0101, -0.0101, -0.0101, -0.684, -0.0101, -0.0101, -0.4775, -0.0101, -0.4775, -0.4775, -0.2091, 0.1527, 0.1527, 0.0213, 0.0213, 0.0213, -0.312, -0.3359, -0.0101, -0.0101]}, \"token.table\": {\"Topic\": [1, 7, 1, 5, 7, 7, 4, 2, 6, 5, 2, 4, 7, 4, 2, 2, 1, 5, 1, 2, 1, 1, 5, 2, 7, 3, 6, 4, 3, 3, 4, 2, 4, 2, 1, 1, 2, 1, 1, 1, 1, 8, 6, 2, 2, 3, 3, 7, 8, 1, 1, 2, 8, 1, 1, 2, 3, 5, 3, 8, 5, 1, 1, 2, 6, 1, 4, 3, 6, 1, 5, 1, 1, 1, 1, 1, 1, 8, 5, 4, 2, 2, 1, 1, 1, 5, 2, 2, 3, 1, 6, 2, 4, 2, 2, 6, 3, 7, 2, 7, 1, 2, 3, 5, 4, 6, 8, 2, 1, 2, 5, 2, 8, 1, 2, 5, 6, 1, 1, 2, 1, 2, 4], \"Freq\": [0.607198483985288, 0.607198483985288, 0.6013027432231278, 0.6013027432231278, 1.0666811923734913, 1.0666811923734913, 1.0241518596345627, 0.6722565078388122, 0.3361282539194061, 1.0486216902078578, 0.8667723854260138, 1.0241518596345627, 1.0666814894875845, 1.0241520314876151, 0.8667723854260138, 0.8667721868340196, 0.8399426853321825, 1.0486221392509585, 0.8399426853321825, 0.8667725045812537, 0.8399426853321825, 0.6013027432231278, 0.6013027432231278, 0.8667725442996743, 1.0666814894875845, 0.9884331262553595, 1.0445745159680244, 1.0241518596345627, 0.9884331262553595, 0.9884322688619851, 1.0241520314876151, 0.8667721868340196, 1.0241518596345627, 0.8667721868340196, 0.8399429661281002, 0.5367318557895394, 0.5367318557895394, 0.839943012927438, 0.8399426853321825, 0.8399429661281002, 0.8399426853321825, 1.0564839197794127, 1.044575254606807, 0.8667727428918323, 0.8667721868340196, 0.9884322688619851, 0.9884322688619851, 1.0666811923734913, 1.0564839197794127, 0.8399429661281002, 0.8399429661281002, 0.6176247889663393, 0.6176247889663393, 0.839943012927438, 0.8399448365646716, 0.8667725442996743, 0.9884322688619851, 1.0486216902078578, 0.9884322688619851, 1.0564839197794127, 1.0486237983119377, 0.8399426853321825, 0.8399448365646716, 0.6135356581243705, 0.6135356581243705, 0.8399438553164112, 1.0241518596345627, 0.9884322688619851, 1.0445745159680244, 0.8399432001248417, 1.0486221392509585, 0.5263189979792743, 0.8399432001248417, 0.839943012927438, 0.8399426853321825, 0.8399429661281002, 0.8399426853321825, 1.0564839197794127, 1.0486221392509585, 1.0241518596345627, 0.8667725045812537, 0.8667721868340196, 0.8399438553164112, 0.8399438553164112, 0.6013027432231278, 0.6013027432231278, 0.8667721868340196, 0.8667725045812537, 0.9884322688619851, 0.8399432001248417, 1.0445745159680244, 0.8667721868340196, 1.0241518596345627, 0.8667727428918323, 0.8667731003579455, 1.0445748442517988, 0.9884322688619851, 1.0666814894875845, 0.621096442870428, 0.621096442870428, 0.8399432001248417, 0.8667723854260138, 0.9884322688619851, 1.0486216902078578, 0.6884156362748968, 0.6884156362748968, 1.0564839197794127, 0.8667731003579455, 0.4281512284191026, 0.4281512284191026, 0.4281512284191026, 0.8667723854260138, 1.0564839197794127, 0.8399432001248417, 0.8667723854260138, 1.0486221392509585, 0.6975818479500335, 0.5263189979792743, 0.5367318151380764, 0.5367318151380764, 0.5263189979792743, 0.6064326952490249, 0.6064326952490249], \"Term\": [\"%\", \"%\", \"-\", \"-\", \"act^\", \"affordable\", \"alcohol\", \"ballot\", \"ballot\", \"basis\", \"box\", \"building\", \"camera\", \"campaign\", \"can\", \"care\", \"chris\", \"chump\", \"claim\", \"college\", \"com\", \"condition\", \"condition\", \"counting\", \"court\", \"debt\", \"decision\", \"dependent\", \"do\", \"double\", \"dreamer\", \"driver\", \"drug\", \"earnings^\", \"economic\", \"election\", \"election\", \"essential\", \"existing\", \"expert\", \"factchecks/2020\", \"family\", \"fence\", \"first\", \"flexible\", \"flip\", \"flopping^\", \"folk\", \"free\", \"great\", \"growth\", \"health\", \"health\", \"hour\", \"important\", \"inappropriate^\", \"incompetent^\", \"inheritance\", \"insincere^\", \"insurance^\", \"interview\", \"jacob\", \"laptop\", \"law\", \"law\", \"license\", \"low\", \"lying^\", \"major\", \"majority\", \"meeting\", \"minimum\", \"mother\", \"much\", \"need\", \"number\", \"oct/30\", \"other\", \"pandemic\", \"people\", \"person\", \"personal\", \"photo\", \"plate\", \"pre\", \"pre\", \"protections^\", \"qualified\", \"radical\", \"result\", \"right\", \"schedule\", \"school\", \"seat\", \"signature\", \"site\", \"socialist\", \"staff\", \"state\", \"state\", \"station\", \"suppress\", \"talking^\", \"taxis\", \"test\", \"test\", \"theft\", \"thing\", \"time\", \"time\", \"time\", \"trash\", \"trump\", \"tv\", \"vote\", \"voter\", \"voting\", \"wage\", \"week\", \"week\", \"worker\", \"year\", \"year\"]}, \"R\": 30, \"lambda.step\": 0.01, \"plot.opts\": {\"xlab\": \"PC1\", \"ylab\": \"PC2\"}, \"topic.order\": [7, 6, 10, 3, 2, 9, 1, 4, 5, 8]};\n",
       "\n",
       "function LDAvis_load_lib(url, callback){\n",
       "  var s = document.createElement('script');\n",
       "  s.src = url;\n",
       "  s.async = true;\n",
       "  s.onreadystatechange = s.onload = callback;\n",
       "  s.onerror = function(){console.warn(\"failed to load library \" + url);};\n",
       "  document.getElementsByTagName(\"head\")[0].appendChild(s);\n",
       "}\n",
       "\n",
       "if(typeof(LDAvis) !== \"undefined\"){\n",
       "   // already loaded: just create the visualization\n",
       "   !function(LDAvis){\n",
       "       new LDAvis(\"#\" + \"ldavis_el920821077010348965943345328\", ldavis_el920821077010348965943345328_data);\n",
       "   }(LDAvis);\n",
       "}else if(typeof define === \"function\" && define.amd){\n",
       "   // require.js is available: use it to load d3/LDAvis\n",
       "   require.config({paths: {d3: \"https://d3js.org/d3.v5\"}});\n",
       "   require([\"d3\"], function(d3){\n",
       "      window.d3 = d3;\n",
       "      LDAvis_load_lib(\"https://cdn.jsdelivr.net/gh/bmabey/pyLDAvis@3.2.2/pyLDAvis/js/ldavis.v3.0.0.js\", function(){\n",
       "        new LDAvis(\"#\" + \"ldavis_el920821077010348965943345328\", ldavis_el920821077010348965943345328_data);\n",
       "      });\n",
       "    });\n",
       "}else{\n",
       "    // require.js not available: dynamically load d3 & LDAvis\n",
       "    LDAvis_load_lib(\"https://d3js.org/d3.v5.js\", function(){\n",
       "         LDAvis_load_lib(\"https://cdn.jsdelivr.net/gh/bmabey/pyLDAvis@3.2.2/pyLDAvis/js/ldavis.v3.0.0.js\", function(){\n",
       "                 new LDAvis(\"#\" + \"ldavis_el920821077010348965943345328\", ldavis_el920821077010348965943345328_data);\n",
       "            })\n",
       "         });\n",
       "}\n",
       "</script>"
      ],
      "text/plain": [
       "PreparedData(topic_coordinates=              x         y  topics  cluster       Freq\n",
       "topic                                                \n",
       "6      0.180588 -0.076838       1        1  26.979632\n",
       "5     -0.151685 -0.119760       2        1  21.501939\n",
       "9     -0.002677  0.118472       3        1   8.923225\n",
       "2     -0.030574  0.076248       4        1   8.329797\n",
       "1      0.059281 -0.018118       5        1   8.304550\n",
       "8     -0.057538  0.006982       6        1   7.647974\n",
       "0      0.002431  0.006705       7        1   6.637886\n",
       "3     -0.011360  0.012258       8        1   6.416921\n",
       "4      0.005148  0.003810       9        1   3.481310\n",
       "7      0.006386 -0.009760      10        1   1.776766, topic_info=         Term     Freq     Total Category  logprob  loglift\n",
       "33     voting  1.00000  1.000000  Default  30.0000  30.0000\n",
       "29     ballot  2.00000  2.000000  Default  29.0000  29.0000\n",
       "15       test  1.00000  1.000000  Default  28.0000  28.0000\n",
       "47     hungry  0.00000  0.000000  Default  27.0000  27.0000\n",
       "49     looter  0.00000  0.000000  Default  26.0000  26.0000\n",
       "..        ...      ...       ...      ...      ...      ...\n",
       "22  qualified  0.02094  1.153705  Topic10  -4.7185   0.0213\n",
       "23      state  0.02094  1.610056  Topic10  -4.7185  -0.3120\n",
       "24       year  0.02094  1.648988  Topic10  -4.7185  -0.3359\n",
       "25   majority  0.02094  1.190557  Topic10  -4.7185  -0.0101\n",
       "26     mother  0.02094  1.190557  Topic10  -4.7185  -0.0101\n",
       "\n",
       "[486 rows x 6 columns], token_table=      Topic      Freq    Term\n",
       "term                         \n",
       "0         1  0.607198       %\n",
       "0         7  0.607198       %\n",
       "42        1  0.601303       -\n",
       "42        5  0.601303       -\n",
       "71        7  1.066681    act^\n",
       "...     ...       ...     ...\n",
       "38        1  0.536732    week\n",
       "38        2  0.536732    week\n",
       "12        1  0.526319  worker\n",
       "24        2  0.606433    year\n",
       "24        4  0.606433    year\n",
       "\n",
       "[123 rows x 3 columns], R=30, lambda_step=0.01, plot_opts={'xlab': 'PC1', 'ylab': 'PC2'}, topic_order=[7, 6, 10, 3, 2, 9, 1, 4, 5, 8])"
      ]
     },
     "execution_count": 46,
     "metadata": {},
     "output_type": "execute_result"
    }
   ],
   "source": [
    "# Visualize the topics\n",
    "#https://github.com/bmabey/pyLDAvis\n",
    "#https://speakerdeck.com/bmabey/visualizing-topic-models\n",
    "pyLDAvis.enable_notebook()\n",
    "vis = pyLDAvis.gensim.prepare(lda_model, doc_term_matrix, dictionary)\n",
    "vis"
   ]
  },
  {
   "cell_type": "code",
   "execution_count": 47,
   "metadata": {},
   "outputs": [
    {
     "name": "stderr",
     "output_type": "stream",
     "text": [
      "C:\\Users\\ASHISH YENKAR\\anaconda3\\lib\\site-packages\\ipykernel\\ipkernel.py:287: DeprecationWarning: `should_run_async` will not call `transform_cell` automatically in the future. Please pass the result to `transformed_cell` argument and any exception that happen during thetransform in `preprocessing_exc_tuple` in IPython 7.17 and above.\n",
      "  and should_run_async(code)\n"
     ]
    },
    {
     "name": "stdout",
     "output_type": "stream",
     "text": [
      "\n",
      "Perplexity:  -4.578825071234323\n",
      "\n",
      "Coherence Score:  0.4981899095338174\n"
     ]
    }
   ],
   "source": [
    "\n",
    "print('\\nPerplexity: ', lda_model.log_perplexity(doc_term_matrix,total_docs=10000))  # a measure of how good the model is. lower the better.\n",
    "\n",
    "# Compute Coherence Score\n",
    "from gensim.models.coherencemodel import CoherenceModel\n",
    "coherence_model_lda = CoherenceModel(model=lda_model, texts=tokenized_reviews, dictionary=dictionary , coherence='c_v')\n",
    "coherence_lda = coherence_model_lda.get_coherence()\n",
    "print('\\nCoherence Score: ', coherence_lda)\n"
   ]
  },
  {
   "cell_type": "markdown",
   "metadata": {},
   "source": [
    "***\n",
    "Method to find optimal number of topics\n",
    "Code from:https://www.machinelearningplus.com/nlp/topic-modeling-gensim-python/#14computemodelperplexityandcoherencescore\n",
    "***"
   ]
  },
  {
   "cell_type": "code",
   "execution_count": 48,
   "metadata": {},
   "outputs": [
    {
     "name": "stderr",
     "output_type": "stream",
     "text": [
      "C:\\Users\\ASHISH YENKAR\\anaconda3\\lib\\site-packages\\ipykernel\\ipkernel.py:287: DeprecationWarning: `should_run_async` will not call `transform_cell` automatically in the future. Please pass the result to `transformed_cell` argument and any exception that happen during thetransform in `preprocessing_exc_tuple` in IPython 7.17 and above.\n",
      "  and should_run_async(code)\n"
     ]
    }
   ],
   "source": [
    "\n",
    "\n",
    "def compute_coherence_values(dictionary, corpus, texts, limit, start=2, step=3):\n",
    "    \"\"\"\n",
    "    Compute c_v coherence for various number of topics\n",
    "\n",
    "    Parameters:\n",
    "    ----------\n",
    "    dictionary : Gensim dictionary\n",
    "    corpus : Gensim corpus\n",
    "    texts : List of input texts\n",
    "    limit : Max num of topics\n",
    "\n",
    "    Returns:\n",
    "    -------\n",
    "    model_list : List of LDA topic models\n",
    "    coherence_values : Coherence values corresponding to the LDA model with respective number of topics\n",
    "    \"\"\"\n",
    "    coherence_values = []\n",
    "    model_list = []\n",
    "    for num_topics in range(start, limit, step):\n",
    "        model = gensim.models.ldamodel.LdaModel(corpus=corpus, num_topics=num_topics, id2word=dictionary)\n",
    "        model_list.append(model)\n",
    "        coherencemodel = CoherenceModel(model=model, texts=texts, dictionary=dictionary, coherence='c_v')\n",
    "        coherence_values.append(coherencemodel.get_coherence())\n",
    "\n",
    "    return model_list, coherence_values"
   ]
  },
  {
   "cell_type": "code",
   "execution_count": 49,
   "metadata": {},
   "outputs": [
    {
     "name": "stderr",
     "output_type": "stream",
     "text": [
      "C:\\Users\\ASHISH YENKAR\\anaconda3\\lib\\site-packages\\ipykernel\\ipkernel.py:287: DeprecationWarning: `should_run_async` will not call `transform_cell` automatically in the future. Please pass the result to `transformed_cell` argument and any exception that happen during thetransform in `preprocessing_exc_tuple` in IPython 7.17 and above.\n",
      "  and should_run_async(code)\n"
     ]
    }
   ],
   "source": [
    "model_list, coherence_values = compute_coherence_values(dictionary=dictionary, corpus=doc_term_matrix, texts=tokenized_reviews, start=2, limit=50, step=1)"
   ]
  },
  {
   "cell_type": "code",
   "execution_count": 50,
   "metadata": {},
   "outputs": [
    {
     "name": "stderr",
     "output_type": "stream",
     "text": [
      "C:\\Users\\ASHISH YENKAR\\anaconda3\\lib\\site-packages\\ipykernel\\ipkernel.py:287: DeprecationWarning: `should_run_async` will not call `transform_cell` automatically in the future. Please pass the result to `transformed_cell` argument and any exception that happen during thetransform in `preprocessing_exc_tuple` in IPython 7.17 and above.\n",
      "  and should_run_async(code)\n"
     ]
    },
    {
     "data": {
      "image/png": "[encoded data removed]",
      "text/plain": [
       "<Figure size 432x288 with 1 Axes>"
      ]
     },
     "metadata": {
      "needs_background": "light"
     },
     "output_type": "display_data"
    }
   ],
   "source": [
    "# Show graph\n",
    "limit=50; start=2; step=1;\n",
    "x = range(start, limit, step)\n",
    "plt.plot(x, coherence_values)\n",
    "plt.xlabel(\"Num Topics\")\n",
    "plt.ylabel(\"Coherence score\")\n",
    "plt.legend((\"coherence_values\"), loc='best')\n",
    "plt.show()# Print the coherence scores\n"
   ]
  },
  {
   "cell_type": "code",
   "execution_count": 51,
   "metadata": {},
   "outputs": [
    {
     "name": "stdout",
     "output_type": "stream",
     "text": [
      "Num Topics = 2  has Coherence Value of 0.531\n",
      "Num Topics = 3  has Coherence Value of 0.4779\n",
      "Num Topics = 4  has Coherence Value of 0.4738\n",
      "Num Topics = 5  has Coherence Value of 0.5172\n",
      "Num Topics = 6  has Coherence Value of 0.4424\n",
      "Num Topics = 7  has Coherence Value of 0.528\n",
      "Num Topics = 8  has Coherence Value of 0.5201\n",
      "Num Topics = 9  has Coherence Value of 0.5711\n",
      "Num Topics = 10  has Coherence Value of 0.6011\n",
      "Num Topics = 11  has Coherence Value of 0.6082\n",
      "Num Topics = 12  has Coherence Value of 0.633\n",
      "Num Topics = 13  has Coherence Value of 0.6266\n",
      "Num Topics = 14  has Coherence Value of 0.6515\n",
      "Num Topics = 15  has Coherence Value of 0.6863\n",
      "Num Topics = 16  has Coherence Value of 0.6599\n",
      "Num Topics = 17  has Coherence Value of 0.6716\n",
      "Num Topics = 18  has Coherence Value of 0.6502\n",
      "Num Topics = 19  has Coherence Value of 0.6092\n",
      "Num Topics = 20  has Coherence Value of 0.5022\n",
      "Num Topics = 21  has Coherence Value of 0.5007\n",
      "Num Topics = 22  has Coherence Value of 0.5143\n",
      "Num Topics = 23  has Coherence Value of 0.4991\n",
      "Num Topics = 24  has Coherence Value of 0.5143\n",
      "Num Topics = 25  has Coherence Value of 0.5114\n",
      "Num Topics = 26  has Coherence Value of 0.5181\n",
      "Num Topics = 27  has Coherence Value of 0.5245\n",
      "Num Topics = 28  has Coherence Value of 0.5207\n",
      "Num Topics = 29  has Coherence Value of 0.5156\n",
      "Num Topics = 30  has Coherence Value of 0.5163\n",
      "Num Topics = 31  has Coherence Value of 0.527\n",
      "Num Topics = 32  has Coherence Value of 0.5315\n",
      "Num Topics = 33  has Coherence Value of 0.5168\n",
      "Num Topics = 34  has Coherence Value of 0.526\n",
      "Num Topics = 35  has Coherence Value of 0.5274\n",
      "Num Topics = 36  has Coherence Value of 0.5296\n",
      "Num Topics = 37  has Coherence Value of 0.5206\n",
      "Num Topics = 38  has Coherence Value of 0.539\n",
      "Num Topics = 39  has Coherence Value of 0.534\n",
      "Num Topics = 40  has Coherence Value of 0.5297\n",
      "Num Topics = 41  has Coherence Value of 0.5295\n",
      "Num Topics = 42  has Coherence Value of 0.5339\n",
      "Num Topics = 43  has Coherence Value of 0.531\n",
      "Num Topics = 44  has Coherence Value of 0.5386\n",
      "Num Topics = 45  has Coherence Value of 0.5326\n",
      "Num Topics = 46  has Coherence Value of 0.5376\n",
      "Num Topics = 47  has Coherence Value of 0.5371\n",
      "Num Topics = 48  has Coherence Value of 0.5367\n",
      "Num Topics = 49  has Coherence Value of 0.5387\n"
     ]
    },
    {
     "name": "stderr",
     "output_type": "stream",
     "text": [
      "C:\\Users\\ASHISH YENKAR\\anaconda3\\lib\\site-packages\\ipykernel\\ipkernel.py:287: DeprecationWarning: `should_run_async` will not call `transform_cell` automatically in the future. Please pass the result to `transformed_cell` argument and any exception that happen during thetransform in `preprocessing_exc_tuple` in IPython 7.17 and above.\n",
      "  and should_run_async(code)\n"
     ]
    }
   ],
   "source": [
    "# Print the coherence scores\n",
    "for m, cv in zip(x, coherence_values):\n",
    "    print(\"Num Topics =\", m, \" has Coherence Value of\", round(cv, 4))"
   ]
  },
  {
   "cell_type": "code",
   "execution_count": 52,
   "metadata": {},
   "outputs": [
    {
     "name": "stderr",
     "output_type": "stream",
     "text": [
      "C:\\Users\\ASHISH YENKAR\\anaconda3\\lib\\site-packages\\ipykernel\\ipkernel.py:287: DeprecationWarning: `should_run_async` will not call `transform_cell` automatically in the future. Please pass the result to `transformed_cell` argument and any exception that happen during thetransform in `preprocessing_exc_tuple` in IPython 7.17 and above.\n",
      "  and should_run_async(code)\n"
     ]
    },
    {
     "data": {
      "text/plain": [
       "[(0,\n",
       "  '0.044*\"state\" + 0.044*\"%\" + 0.044*\"act^\" + 0.044*\"affordable\" + 0.044*\"dependent\" + 0.044*\"people\" + 0.044*\"drug\" + 0.044*\"folk\" + 0.044*\"alcohol\" + 0.044*\"laptop\"'),\n",
       " (1,\n",
       "  '0.054*\"week\" + 0.054*\"year\" + 0.028*\"great\" + 0.028*\"%\" + 0.028*\"growth\" + 0.028*\"time\" + 0.028*\"election\" + 0.028*\"expert\" + 0.028*\"law\" + 0.028*\"economic\"'),\n",
       " (2,\n",
       "  '0.045*\"incompetent^\" + 0.045*\"lying^\" + 0.045*\"double\" + 0.045*\"insincere^\" + 0.045*\"flip\" + 0.045*\"talking^\" + 0.045*\"socialist\" + 0.045*\"flopping^\" + 0.045*\"radical\" + 0.045*\"taxis\"'),\n",
       " (3,\n",
       "  '0.068*\"do\" + 0.068*\"chump\" + 0.068*\"voter\" + 0.068*\"debt\" + 0.007*\"interview\" + 0.007*\"ballot\" + 0.007*\"test\" + 0.007*\"important\" + 0.007*\"pandemic\" + 0.007*\"voting\"'),\n",
       " (4,\n",
       "  '0.064*\"ballot\" + 0.064*\"major\" + 0.064*\"right\" + 0.064*\"voting\" + 0.064*\"decision\" + 0.006*\"interview\" + 0.006*\"debt\" + 0.006*\"test\" + 0.006*\"meeting\" + 0.006*\"time\"'),\n",
       " (5,\n",
       "  '0.057*\"time\" + 0.057*\"pre\" + 0.057*\"-\" + 0.057*\"staff\" + 0.057*\"condition\" + 0.057*\"camera\" + 0.057*\"court\" + 0.006*\"interview\" + 0.006*\"ballot\" + 0.006*\"test\"'),\n",
       " (6,\n",
       "  '0.065*\"ballot\" + 0.034*\"condition\" + 0.034*\"pre\" + 0.034*\"existing\" + 0.034*\"-\" + 0.034*\"chris\" + 0.034*\"claim\" + 0.034*\"need\" + 0.034*\"oct/30\" + 0.034*\"com\"'),\n",
       " (7,\n",
       "  '0.049*\"minimum\" + 0.049*\"worker\" + 0.049*\"wage\" + 0.026*\"other\" + 0.026*\"theft\" + 0.026*\"insurance^\" + 0.026*\"trump\" + 0.026*\"health\" + 0.026*\"free\" + 0.026*\"majority\"'),\n",
       " (8,\n",
       "  '0.044*\"health\" + 0.044*\"earnings^\" + 0.044*\"care\" + 0.044*\"driver\" + 0.044*\"personal\" + 0.044*\"protections^\" + 0.044*\"flexible\" + 0.044*\"schedule\" + 0.044*\"seat\" + 0.044*\"time\"')]"
      ]
     },
     "execution_count": 52,
     "metadata": {},
     "output_type": "execute_result"
    }
   ],
   "source": [
    "# Select the model and print the topics\n",
    "optimal_model = model_list[7]\n",
    "model_topics = optimal_model.show_topics(formatted=False)\n",
    "optimal_model.print_topics(num_words=10)"
   ]
  },
  {
   "cell_type": "code",
   "execution_count": 53,
   "metadata": {},
   "outputs": [
    {
     "name": "stderr",
     "output_type": "stream",
     "text": [
      "C:\\Users\\ASHISH YENKAR\\anaconda3\\lib\\site-packages\\ipykernel\\ipkernel.py:287: DeprecationWarning: `should_run_async` will not call `transform_cell` automatically in the future. Please pass the result to `transformed_cell` argument and any exception that happen during thetransform in `preprocessing_exc_tuple` in IPython 7.17 and above.\n",
      "  and should_run_async(code)\n"
     ]
    },
    {
     "data": {
      "text/html": [
       "\n",
       "<link rel=\"stylesheet\" type=\"text/css\" href=\"https://cdn.jsdelivr.net/gh/bmabey/pyLDAvis@3.2.2/pyLDAvis/js/ldavis.v1.0.0.css\">\n",
       "\n",
       "\n",
       "<div id=\"ldavis_el920821077676848963278618762\"></div>\n",
       "<script type=\"text/javascript\">\n",
       "\n",
       "var ldavis_el920821077676848963278618762_data = {\"mdsDat\": {\"x\": [0.19785720222263728, -0.06740252202971475, -0.09795257431722713, 0.003145383388615156, -0.00010218924067666361, -0.023183984557572306, -0.026839172036281018, 0.005354823782650128, 0.009123032787569253], \"y\": [-0.01645660572410754, 0.14942892411866143, -0.1369856349272231, 0.03111446705585616, -0.022507133647058433, 0.04336305754834584, -0.03353082437286868, -0.012388341778726577, -0.0020379082728790424], \"topics\": [1, 2, 3, 4, 5, 6, 7, 8, 9], \"cluster\": [1, 1, 1, 1, 1, 1, 1, 1, 1], \"Freq\": [21.20479719968167, 18.798562057436556, 15.213728488797784, 10.164429628088065, 9.815087480040388, 9.575205796987438, 6.1029913049141085, 5.1308152866408125, 3.9943827574131765]}, \"tinfo\": {\"Term\": [\"ballot\", \"time\", \"voting\", \"pre\", \"-\", \"condition\", \"do\", \"chump\", \"voter\", \"debt\", \"major\", \"right\", \"decision\", \"staff\", \"camera\", \"court\", \"week\", \"year\", \"%\", \"state\", \"election\", \"incompetent^\", \"lying^\", \"double\", \"insincere^\", \"flip\", \"socialist\", \"talking^\", \"flopping^\", \"radical\", \"minimum\", \"worker\", \"wage\", \"other\", \"theft\", \"insurance^\", \"trump\", \"free\", \"majority\", \"essential\", \"hour\", \"much\", \"family\", \"mother\", \"building\", \"hungry\", \"school\", \"low\", \"license\", \"looter\", \"photo\", \"site\", \"plate\", \"kid\", \"voting\", \"health\", \"test\", \"law\", \"do\", \"debt\", \"ballot\", \"interview\", \"week\", \"year\", \"great\", \"growth\", \"expert\", \"economic\", \"counting\", \"station\", \"person\", \"qualified\", \"inappropriate^\", \"result\", \"tv\", \"number\", \"college\", \"dreamer\", \"campaign\", \"fence\", \"%\", \"state\", \"election\", \"law\", \"test\", \"time\", \"ballot\", \"voter\", \"debt\", \"chump\", \"do\", \"decision\", \"interview\", \"voting\", \"laptop\", \"meeting\", \"important\", \"existing\", \"chris\", \"claim\", \"need\", \"oct/30\", \"com\", \"jacob\", \"factchecks/2020\", \"trash\", \"vote\", \"can\", \"suppress\", \"box\", \"thing\", \"signature\", \"ballot\", \"condition\", \"pre\", \"-\", \"voter\", \"chump\", \"debt\", \"do\", \"decision\", \"right\", \"major\", \"camera\", \"court\", \"staff\", \"meeting\", \"interview\", \"test\", \"time\", \"inheritance\", \"voting\", \"pandemic\", \"law\", \"laptop\", \"earnings^\", \"care\", \"driver\", \"personal\", \"protections^\", \"flexible\", \"schedule\", \"seat\", \"first\", \"interview\", \"election\", \"health\", \"time\", \"debt\", \"voter\", \"do\", \"chump\", \"decision\", \"major\", \"right\", \"court\", \"staff\", \"camera\", \"important\", \"pandemic\", \"meeting\", \"laptop\", \"drug\", \"people\", \"alcohol\", \"ballot\", \"test\", \"inheritance\", \"voting\", \"kid\", \"year\", \"wage\", \"week\", \"law\", \"state\", \"fence\", \"incompetent^\", \"lying^\", \"insincere^\", \"double\", \"talking^\", \"socialist\", \"flip\", \"radical\", \"flopping^\", \"taxis\", \"basis\", \"inheritance\", \"voter\", \"debt\", \"chump\", \"do\", \"right\", \"decision\", \"major\", \"court\", \"camera\", \"staff\", \"meeting\", \"pandemic\", \"important\", \"alcohol\", \"laptop\", \"drug\", \"people\", \"affordable\", \"interview\", \"ballot\", \"test\", \"fence\", \"voting\", \"time\", \"law\", \"year\", \"condition\", \"wage\", \"week\", \"act^\", \"affordable\", \"dependent\", \"people\", \"folk\", \"drug\", \"alcohol\", \"laptop\", \"important\", \"pandemic\", \"meeting\", \"state\", \"%\", \"debt\", \"chump\", \"do\", \"voter\", \"decision\", \"right\", \"major\", \"camera\", \"court\", \"staff\", \"interview\", \"first\", \"seat\", \"schedule\", \"driver\", \"care\", \"flexible\", \"personal\", \"inheritance\", \"basis\", \"taxis\", \"test\", \"ballot\", \"kid\", \"time\", \"fence\", \"voting\", \"election\", \"law\", \"wage\", \"plate\", \"looter\", \"staff\", \"camera\", \"court\", \"pre\", \"-\", \"condition\", \"time\", \"debt\", \"voter\", \"do\", \"chump\", \"decision\", \"major\", \"right\", \"pandemic\", \"important\", \"laptop\", \"meeting\", \"drug\", \"folk\", \"act^\", \"alcohol\", \"affordable\", \"dependent\", \"people\", \"interview\", \"first\", \"seat\", \"schedule\", \"earnings^\", \"inheritance\", \"taxis\", \"basis\", \"ballot\", \"test\", \"year\", \"voting\", \"campaign\", \"wage\", \"kid\", \"law\", \"fence\", \"state\", \"election\", \"plate\", \"major\", \"right\", \"decision\", \"voting\", \"ballot\", \"debt\", \"chump\", \"voter\", \"do\", \"court\", \"camera\", \"staff\", \"meeting\", \"pandemic\", \"laptop\", \"important\", \"folk\", \"dependent\", \"alcohol\", \"people\", \"drug\", \"affordable\", \"act^\", \"interview\", \"first\", \"schedule\", \"seat\", \"flexible\", \"driver\", \"protections^\", \"inheritance\", \"basis\", \"taxis\", \"test\", \"time\", \"year\", \"week\", \"election\", \"law\", \"kid\", \"site\", \"wage\", \"plate\", \"fence\", \"state\", \"campaign\", \"signature\", \"do\", \"chump\", \"voter\", \"debt\", \"decision\", \"right\", \"major\", \"camera\", \"court\", \"staff\", \"important\", \"pandemic\", \"meeting\", \"laptop\", \"folk\", \"drug\", \"people\", \"alcohol\", \"dependent\", \"affordable\", \"act^\", \"interview\", \"first\", \"seat\", \"schedule\", \"flexible\", \"protections^\", \"personal\", \"driver\", \"care\", \"inheritance\", \"basis\", \"taxis\", \"ballot\", \"test\", \"voting\", \"time\", \"year\", \"fence\", \"campaign\", \"site\", \"kid\", \"law\", \"election\", \"plate\", \"condition\", \"wage\", \"-\", \"week\", \"signature\"], \"Freq\": [2.0, 2.0, 1.0, 1.0, 1.0, 1.0, 0.0, 0.0, 0.0, 0.0, 0.0, 0.0, 0.0, 0.0, 0.0, 0.0, 1.0, 1.0, 1.0, 1.0, 1.0, 1.0, 1.0, 1.0, 1.0, 1.0, 1.0, 1.0, 1.0, 1.0, 1.3601264832846072, 1.360098642630465, 1.3600221068996023, 0.7158610571274315, 0.7158569905150287, 0.7158486487459974, 0.7158448428138768, 0.7158394728000629, 0.7158338421059667, 0.7158316002555395, 0.7158281071397576, 0.7158281071397576, 0.7158224764456614, 0.7158104851526789, 0.7158090253430984, 0.7158005793019542, 0.7157971904582852, 0.7157883794647458, 0.715783374403327, 0.7157835308114963, 0.7157791513827548, 0.7157508936401611, 0.7157382245784447, 0.7156891124132726, 0.715759183273136, 0.7158442171811995, 0.715826386649895, 0.7157807676005047, 0.07162224642707153, 0.07162159472636595, 0.07166913629283765, 0.07166781334040534, 1.3279807879283665, 1.3279314251111056, 0.6989794798686257, 0.6989755049601196, 0.698967878682172, 0.6989554917579904, 0.698944445209933, 0.6989434283728734, 0.69894245775568, 0.6989394996842336, 0.6989334448817419, 0.6989322431652168, 0.6989230916316798, 0.6989182847655794, 0.6989090870121759, 0.698899704379307, 0.6988335637505614, 0.6988132732292341, 0.6989764293574466, 0.6989529496653413, 0.6989722695694752, 0.6989641810928642, 0.6988062940294154, 0.6989752276409216, 0.698952117707747, 0.06993205593723494, 0.0699311835372576, 0.06992667132280525, 0.06992560826587922, 0.06991591364891249, 0.06998475236235627, 0.06993950889068373, 0.06993325187627672, 0.06993277812264664, 0.06993274345774687, 0.6877065511840925, 0.6877013891745543, 0.6877001921868353, 0.6876971249058054, 0.6876964516002134, 0.6876946561186349, 0.687692785825324, 0.6876889704269696, 0.6876840328526288, 0.6876684720122818, 0.6876651802960546, 0.6876450559400289, 0.6876285225471602, 0.6876109417900375, 0.687593435844647, 1.30644252037601, 0.687725628175864, 0.6877132094282794, 0.6877041572086544, 0.068807249277331, 0.06880147007100022, 0.06880185348112897, 0.06879970731955466, 0.06878760652183291, 0.0687840810189418, 0.06878224345576381, 0.0687923757697758, 0.06879201573831344, 0.06879166973405092, 0.06881233647513675, 0.06886158597374697, 0.06881545518923274, 0.06880911021917539, 0.0688059540992132, 0.06880450462189722, 0.06880334036431116, 0.06880321411951267, 0.06880226494565737, 0.5858585488336165, 0.5858549501011625, 0.5858526009285883, 0.5858514013511036, 0.5858506516151757, 0.5858476026890688, 0.5858371063860779, 0.5858354069846412, 0.5857686305046608, 0.5853455795117308, 0.5858063672130329, 0.5858664460520573, 0.5858265101182966, 0.058621995903767224, 0.05861304905502733, 0.058611455866180495, 0.058604470826452, 0.058602971354596155, 0.05860021607506104, 0.05859936012654332, 0.058609281631989515, 0.058603371213757714, 0.058602915124401564, 0.05861617920252642, 0.05861561065278108, 0.058614760952062764, 0.058608650604250176, 0.05860338370935651, 0.05860196545889286, 0.058601415652545716, 0.05863542242467647, 0.05862186469997984, 0.0586153544930057, 0.05861506709423333, 0.05861227432790181, 0.058610924803231546, 0.05861050620067179, 0.05861047496167479, 0.058610462466076, 0.05861029377549221, 0.05860928787978892, 0.5888464773730663, 0.5888404443048169, 0.5888363900829533, 0.5888369692575053, 0.5888325771838196, 0.5888323841256357, 0.5888332046229177, 0.5888307913956179, 0.5888312257765318, 0.5887796309768629, 0.5887674200467261, 0.5887128328452055, 0.05891887212687186, 0.05891882989539411, 0.058911873767702544, 0.05890999748347698, 0.05889705655208201, 0.05889642911298407, 0.05889595250059237, 0.05890739723106149, 0.058905219293423454, 0.05890141242735808, 0.05891406980454533, 0.05890967773085976, 0.05890978632608825, 0.05890394028295458, 0.058903361108402635, 0.05890144862576757, 0.05890050143405242, 0.058900036887797214, 0.05896003575153755, 0.058932639588617, 0.05891872130016562, 0.05891586765888365, 0.05891344236544739, 0.05891251930600523, 0.05891076368314466, 0.058910112111773716, 0.05891010004563722, 0.05890768681833746, 0.058907535991631226, 0.5518757988739429, 0.551868218196052, 0.5518652989287897, 0.5518615321323221, 0.5518523976508884, 0.5518536689446962, 0.5518523976508884, 0.5517812522826081, 0.5517553555568939, 0.5517518712701615, 0.5517505999763537, 0.5518887943217559, 0.5518851216952, 0.05521824631913548, 0.0552166395450173, 0.05521643943395496, 0.055216504175769246, 0.05520449162640955, 0.055202867195432936, 0.055202054979944626, 0.05520923543571083, 0.05520897058283421, 0.05520742855053032, 0.055250752595526274, 0.05521023010540304, 0.05520426797286929, 0.0552029378228667, 0.05520128984941216, 0.055201154480164105, 0.05520087197042904, 0.05520091316976541, 0.055213373026205624, 0.05521071861181992, 0.05520786408637188, 0.05523606797492243, 0.055234755481778273, 0.05522099490343287, 0.05521864065564067, 0.05521791083882509, 0.05521560956160822, 0.05521553893417445, 0.05521435592465887, 0.055213025774656276, 0.05521126008881212, 0.05521094226536018, 0.46023430816538935, 0.46021083976144267, 0.46020633814943246, 0.4602529748498585, 0.46024169080908617, 0.46022722562915996, 0.46026738000829126, 0.04605479579822027, 0.04605058303964736, 0.04604983277097899, 0.04604511358105492, 0.04603884508633066, 0.046036380453755056, 0.04603575773076031, 0.04605183598832354, 0.04604924756141765, 0.04604842976856913, 0.04604602140614365, 0.046042236300711706, 0.04604047692068437, 0.04604051443411779, 0.04604021432665044, 0.04603980543022618, 0.04603871754065704, 0.04603860500035678, 0.0460851479171993, 0.04604416824253277, 0.04603807606094558, 0.04603701443077983, 0.046036399210471764, 0.04604521486732515, 0.046044085712979244, 0.04604094958994545, 0.046067869229766675, 0.04606194585862987, 0.04605384295701144, 0.0460525224841551, 0.04605201230146061, 0.04605036171039019, 0.04604964895515523, 0.046048546060212726, 0.04604847103334589, 0.046046190216594035, 0.04604437831775991, 0.04604432955029647, 0.43128583767337453, 0.43128508076783223, 0.4312677728610982, 0.4312793282857107, 0.431318939675758, 0.04315692483385984, 0.04315271454678077, 0.04314584878275744, 0.04314423089716076, 0.043145558635632894, 0.04314545771489392, 0.04314142088533496, 0.04315440496915859, 0.04315247486002571, 0.043150305064137764, 0.0431493053180673, 0.04314430028016881, 0.0431426950096645, 0.04314245532290944, 0.043142177790877256, 0.04314127581177268, 0.043140048994039525, 0.043138393263165736, 0.043190521978618925, 0.04314618308270529, 0.04313898617250721, 0.0431386771027441, 0.043138270266015105, 0.04313766158780817, 0.04313745974633022, 0.043146507921333864, 0.04314423405093386, 0.043139736770503326, 0.04315548040578328, 0.0431533705315841, 0.043152985771266764, 0.04314986984345094, 0.0431489489417078, 0.04314831503331612, 0.04314772527774774, 0.043147709508882276, 0.04314744459194247, 0.043147116599540805, 0.04314696206465925, 0.0431468485288279, 0.043146482691149124, 0.043145609096002374, 0.3561282265642858, 0.3561266944952629, 0.35611534147096535, 0.3560932246796867, 0.0356283780674882, 0.0356280367892924, 0.03562787228829155, 0.035633011103139045, 0.035632534786808216, 0.03562959095546463, 0.035642218248709084, 0.035641071652180764, 0.03563766132546162, 0.03563683390997972, 0.0356334923299475, 0.03563072773103767, 0.03563009427942245, 0.03562996169652624, 0.03562973090407729, 0.03562933561062748, 0.035628820010475556, 0.03565709699595028, 0.035630396273797146, 0.03562886174953547, 0.035628486097996216, 0.035628439448458664, 0.035627322314796164, 0.03562692702134636, 0.035626519451702456, 0.03562651699646364, 0.03563434429781759, 0.035632488137270664, 0.03563034225854314, 0.03564699614345024, 0.035643362389998594, 0.03564008955665329, 0.03563870480195956, 0.03563868024957137, 0.03563747718255022, 0.0356374747273114, 0.03563715063578733, 0.03563705488147341, 0.03563602613640838, 0.03563477150937203, 0.03563440322354923, 0.035633595449977885, 0.03563315105175171, 0.03563299637170613, 0.03563274839258544, 0.03563252742109176], \"Total\": [2.0, 2.0, 1.0, 1.0, 1.0, 1.0, 0.0, 0.0, 0.0, 0.0, 0.0, 0.0, 0.0, 0.0, 0.0, 0.0, 1.0, 1.0, 1.0, 1.0, 1.0, 1.0, 1.0, 1.0, 1.0, 1.0, 1.0, 1.0, 1.0, 1.0, 1.7963432530814345, 1.7963363580143488, 1.7963064676351679, 1.1520385886028583, 1.1520382340340212, 1.152035628214568, 1.1520311055244439, 1.1520323137957398, 1.1520319699026547, 1.15202914913269, 1.152027922984828, 1.152028345306419, 1.15202527268687, 1.1520214191590843, 1.1520246680095207, 1.1520254433524881, 1.1520204133797236, 1.1520176149118324, 1.1520188899371449, 1.1520199782257716, 1.1520182158646362, 1.1520067710732291, 1.1520039538195437, 1.1519888591049021, 1.5402192561335253, 1.679335036747342, 1.7810855784980226, 1.7811166321166985, 0.8284077450285434, 0.8284186491748161, 2.762900396920642, 1.0350032864270717, 1.7659389287661067, 1.7659213426501008, 1.1368471991253508, 1.1368455269750084, 1.136841525130673, 1.1368361163738057, 1.136834584288923, 1.1368375927797933, 1.1368362927796318, 1.1368363391408571, 1.136832977754257, 1.136832719768488, 1.136829057786232, 1.1368244241152774, 1.1368249054419657, 1.1368274122924287, 1.1368061325308547, 1.1368058341228862, 1.6335928751512476, 1.6335821110923259, 1.6641386433007743, 1.7811166321166985, 1.7810855784980226, 2.0784278349744123, 2.762900396920642, 0.8284103911493779, 0.8284186491748161, 0.8284057113857837, 0.8284077450285434, 0.8959489747877476, 1.0350032864270717, 1.5402192561335253, 1.004482372966381, 1.004484723050411, 1.004481760165675, 1.1266915669696016, 1.1266896052852016, 1.1266889957027713, 1.1266878861411243, 1.1266872628239957, 1.1266866923167544, 1.1266875725349341, 1.1266838024353771, 1.126687900422685, 1.1266813219023244, 1.1266795064202748, 1.1266735316041105, 1.1266669496594148, 1.126669835884616, 1.1266667078641472, 2.762900396920642, 1.5409852861083653, 1.5409800848653235, 1.540976204493011, 0.8284103911493779, 0.8284057113857837, 0.8284186491748161, 0.8284077450285434, 0.8959489747877476, 0.8959449568013464, 0.8959437900479212, 0.9220322548742785, 0.9220342416724202, 0.922031514078293, 1.004484723050411, 1.0350032864270717, 1.7810855784980226, 2.0784278349744123, 1.0377080797105065, 1.5402192561335253, 1.004479682569732, 1.7811166321166985, 1.004482372966381, 1.0350389156977218, 1.035039049081545, 1.0350375589024625, 1.0350376596764945, 1.0350370665042705, 1.0350343332913556, 1.0350332720105644, 1.0350381397522934, 1.0350274346427424, 1.0350032864270717, 1.6641386433007743, 1.679335036747342, 2.0784278349744123, 0.8284186491748161, 0.8284103911493779, 0.8284077450285434, 0.8284057113857837, 0.8959489747877476, 0.8959437900479212, 0.8959449568013464, 0.9220342416724202, 0.922031514078293, 0.9220322548742785, 1.004481760165675, 1.004479682569732, 1.004484723050411, 1.004482372966381, 1.0044825230902419, 1.0044832891930464, 1.0044819319680598, 2.762900396920642, 1.7810855784980226, 1.0377080797105065, 1.5402192561335253, 1.1519888591049021, 1.7659213426501008, 1.7963064676351679, 1.7659389287661067, 1.7811166321166985, 1.6335821110923259, 1.1368058341228862, 1.0377206755132478, 1.0377199569662325, 1.0377176952758913, 1.037719181665399, 1.0377164792479494, 1.0377161666221864, 1.0377183588401608, 1.037716069313043, 1.037717122449578, 1.0377154826854162, 1.0377122357710402, 1.0377080797105065, 0.8284103911493779, 0.8284186491748161, 0.8284057113857837, 0.8284077450285434, 0.8959449568013464, 0.8959489747877476, 0.8959437900479212, 0.9220342416724202, 0.9220322548742785, 0.922031514078293, 1.004484723050411, 1.004479682569732, 1.004481760165675, 1.0044819319680598, 1.004482372966381, 1.0044825230902419, 1.0044832891930464, 1.0044825064886262, 1.0350032864270717, 2.762900396920642, 1.7810855784980226, 1.1368058341228862, 1.5402192561335253, 2.0784278349744123, 1.7811166321166985, 1.7659213426501008, 1.5409852861083653, 1.7963064676351679, 1.7659389287661067, 1.004483100280818, 1.0044825064886262, 1.0044838160978822, 1.0044832891930464, 1.0044768716995918, 1.0044825230902419, 1.0044819319680598, 1.004482372966381, 1.004481760165675, 1.004479682569732, 1.004484723050411, 1.6335821110923259, 1.6335928751512476, 0.8284186491748161, 0.8284057113857837, 0.8284077450285434, 0.8284103911493779, 0.8959489747877476, 0.8959449568013464, 0.8959437900479212, 0.9220322548742785, 0.9220342416724202, 0.922031514078293, 1.0350032864270717, 1.0350274346427424, 1.0350381397522934, 1.0350332720105644, 1.0350375589024625, 1.035039049081545, 1.0350343332913556, 1.0350376596764945, 1.0377080797105065, 1.0377122357710402, 1.0377154826854162, 1.7810855784980226, 2.762900396920642, 1.1519888591049021, 2.0784278349744123, 1.1368058341228862, 1.5402192561335253, 1.6641386433007743, 1.7811166321166985, 1.7963064676351679, 1.1520039538195437, 1.1520199782257716, 0.922031514078293, 0.9220322548742785, 0.9220342416724202, 1.5409800848653235, 1.540976204493011, 1.5409852861083653, 2.0784278349744123, 0.8284186491748161, 0.8284103911493779, 0.8284077450285434, 0.8284057113857837, 0.8959489747877476, 0.8959437900479212, 0.8959449568013464, 1.004479682569732, 1.004481760165675, 1.004482372966381, 1.004484723050411, 1.0044825230902419, 1.0044768716995918, 1.004483100280818, 1.0044819319680598, 1.0044825064886262, 1.0044838160978822, 1.0044832891930464, 1.0350032864270717, 1.0350274346427424, 1.0350381397522934, 1.0350332720105644, 1.0350389156977218, 1.0377080797105065, 1.0377154826854162, 1.0377122357710402, 2.762900396920642, 1.7810855784980226, 1.7659213426501008, 1.5402192561335253, 1.1368061325308547, 1.7963064676351679, 1.1519888591049021, 1.7811166321166985, 1.1368058341228862, 1.6335821110923259, 1.6641386433007743, 1.1520039538195437, 0.8959437900479212, 0.8959449568013464, 0.8959489747877476, 1.5402192561335253, 2.762900396920642, 0.8284186491748161, 0.8284057113857837, 0.8284103911493779, 0.8284077450285434, 0.9220342416724202, 0.9220322548742785, 0.922031514078293, 1.004484723050411, 1.004479682569732, 1.004482372966381, 1.004481760165675, 1.0044768716995918, 1.0044838160978822, 1.0044819319680598, 1.0044832891930464, 1.0044825230902419, 1.0044825064886262, 1.004483100280818, 1.0350032864270717, 1.0350274346427424, 1.0350332720105644, 1.0350381397522934, 1.0350343332913556, 1.0350375589024625, 1.0350370665042705, 1.0377080797105065, 1.0377122357710402, 1.0377154826854162, 1.7810855784980226, 2.0784278349744123, 1.7659213426501008, 1.7659389287661067, 1.6641386433007743, 1.7811166321166985, 1.1519888591049021, 1.1520067710732291, 1.7963064676351679, 1.1520039538195437, 1.1368058341228862, 1.6335821110923259, 1.1368061325308547, 1.1266667078641472, 0.8284077450285434, 0.8284057113857837, 0.8284103911493779, 0.8284186491748161, 0.8959489747877476, 0.8959449568013464, 0.8959437900479212, 0.9220322548742785, 0.9220342416724202, 0.922031514078293, 1.004481760165675, 1.004479682569732, 1.004484723050411, 1.004482372966381, 1.0044768716995918, 1.0044825230902419, 1.0044832891930464, 1.0044819319680598, 1.0044838160978822, 1.0044825064886262, 1.004483100280818, 1.0350032864270717, 1.0350274346427424, 1.0350381397522934, 1.0350332720105644, 1.0350343332913556, 1.0350370665042705, 1.0350376596764945, 1.0350375589024625, 1.035039049081545, 1.0377080797105065, 1.0377122357710402, 1.0377154826854162, 2.762900396920642, 1.7810855784980226, 1.5402192561335253, 2.0784278349744123, 1.7659213426501008, 1.1368058341228862, 1.1368061325308547, 1.1520067710732291, 1.1519888591049021, 1.7811166321166985, 1.6641386433007743, 1.1520039538195437, 1.5409852861083653, 1.7963064676351679, 1.540976204493011, 1.7659389287661067, 1.1266667078641472], \"Category\": [\"Default\", \"Default\", \"Default\", \"Default\", \"Default\", \"Default\", \"Default\", \"Default\", \"Default\", \"Default\", \"Default\", \"Default\", \"Default\", \"Default\", \"Default\", \"Default\", \"Default\", \"Default\", \"Default\", \"Default\", \"Default\", \"Default\", \"Default\", \"Default\", \"Default\", \"Default\", \"Default\", \"Default\", \"Default\", \"Default\", \"Topic1\", \"Topic1\", \"Topic1\", \"Topic1\", \"Topic1\", \"Topic1\", \"Topic1\", \"Topic1\", \"Topic1\", \"Topic1\", \"Topic1\", \"Topic1\", \"Topic1\", \"Topic1\", \"Topic1\", \"Topic1\", \"Topic1\", \"Topic1\", \"Topic1\", \"Topic1\", \"Topic1\", \"Topic1\", \"Topic1\", \"Topic1\", \"Topic1\", \"Topic1\", \"Topic1\", \"Topic1\", \"Topic1\", \"Topic1\", \"Topic1\", \"Topic1\", \"Topic2\", \"Topic2\", \"Topic2\", \"Topic2\", \"Topic2\", \"Topic2\", \"Topic2\", \"Topic2\", \"Topic2\", \"Topic2\", \"Topic2\", \"Topic2\", \"Topic2\", \"Topic2\", \"Topic2\", \"Topic2\", \"Topic2\", \"Topic2\", \"Topic2\", \"Topic2\", \"Topic2\", \"Topic2\", \"Topic2\", \"Topic2\", \"Topic2\", \"Topic2\", \"Topic2\", \"Topic2\", \"Topic2\", \"Topic2\", \"Topic2\", \"Topic2\", \"Topic2\", \"Topic2\", \"Topic2\", \"Topic3\", \"Topic3\", \"Topic3\", \"Topic3\", \"Topic3\", \"Topic3\", \"Topic3\", \"Topic3\", \"Topic3\", \"Topic3\", \"Topic3\", \"Topic3\", \"Topic3\", \"Topic3\", \"Topic3\", \"Topic3\", \"Topic3\", \"Topic3\", \"Topic3\", \"Topic3\", \"Topic3\", \"Topic3\", \"Topic3\", \"Topic3\", \"Topic3\", \"Topic3\", \"Topic3\", \"Topic3\", \"Topic3\", \"Topic3\", \"Topic3\", \"Topic3\", \"Topic3\", \"Topic3\", \"Topic3\", \"Topic3\", \"Topic3\", \"Topic3\", \"Topic4\", \"Topic4\", \"Topic4\", \"Topic4\", \"Topic4\", \"Topic4\", \"Topic4\", \"Topic4\", \"Topic4\", \"Topic4\", \"Topic4\", \"Topic4\", \"Topic4\", \"Topic4\", \"Topic4\", \"Topic4\", \"Topic4\", \"Topic4\", \"Topic4\", \"Topic4\", \"Topic4\", \"Topic4\", \"Topic4\", \"Topic4\", \"Topic4\", \"Topic4\", \"Topic4\", \"Topic4\", \"Topic4\", \"Topic4\", \"Topic4\", \"Topic4\", \"Topic4\", \"Topic4\", \"Topic4\", \"Topic4\", \"Topic4\", \"Topic4\", \"Topic4\", \"Topic4\", \"Topic4\", \"Topic5\", \"Topic5\", \"Topic5\", \"Topic5\", \"Topic5\", \"Topic5\", \"Topic5\", \"Topic5\", \"Topic5\", \"Topic5\", \"Topic5\", \"Topic5\", \"Topic5\", \"Topic5\", \"Topic5\", \"Topic5\", \"Topic5\", \"Topic5\", \"Topic5\", \"Topic5\", \"Topic5\", \"Topic5\", \"Topic5\", \"Topic5\", \"Topic5\", \"Topic5\", \"Topic5\", \"Topic5\", \"Topic5\", \"Topic5\", \"Topic5\", \"Topic5\", \"Topic5\", \"Topic5\", \"Topic5\", \"Topic5\", \"Topic5\", \"Topic5\", \"Topic5\", \"Topic5\", \"Topic5\", \"Topic6\", \"Topic6\", \"Topic6\", \"Topic6\", \"Topic6\", \"Topic6\", \"Topic6\", \"Topic6\", \"Topic6\", \"Topic6\", \"Topic6\", \"Topic6\", \"Topic6\", \"Topic6\", \"Topic6\", \"Topic6\", \"Topic6\", \"Topic6\", \"Topic6\", \"Topic6\", \"Topic6\", \"Topic6\", \"Topic6\", \"Topic6\", \"Topic6\", \"Topic6\", \"Topic6\", \"Topic6\", \"Topic6\", \"Topic6\", \"Topic6\", \"Topic6\", \"Topic6\", \"Topic6\", \"Topic6\", \"Topic6\", \"Topic6\", \"Topic6\", \"Topic6\", \"Topic6\", \"Topic6\", \"Topic6\", \"Topic6\", \"Topic6\", \"Topic6\", \"Topic7\", \"Topic7\", \"Topic7\", \"Topic7\", \"Topic7\", \"Topic7\", \"Topic7\", \"Topic7\", \"Topic7\", \"Topic7\", \"Topic7\", \"Topic7\", \"Topic7\", \"Topic7\", \"Topic7\", \"Topic7\", \"Topic7\", \"Topic7\", \"Topic7\", \"Topic7\", \"Topic7\", \"Topic7\", \"Topic7\", \"Topic7\", \"Topic7\", \"Topic7\", \"Topic7\", \"Topic7\", \"Topic7\", \"Topic7\", \"Topic7\", \"Topic7\", \"Topic7\", \"Topic7\", \"Topic7\", \"Topic7\", \"Topic7\", \"Topic7\", \"Topic7\", \"Topic7\", \"Topic7\", \"Topic7\", \"Topic7\", \"Topic7\", \"Topic7\", \"Topic8\", \"Topic8\", \"Topic8\", \"Topic8\", \"Topic8\", \"Topic8\", \"Topic8\", \"Topic8\", \"Topic8\", \"Topic8\", \"Topic8\", \"Topic8\", \"Topic8\", \"Topic8\", \"Topic8\", \"Topic8\", \"Topic8\", \"Topic8\", \"Topic8\", \"Topic8\", \"Topic8\", \"Topic8\", \"Topic8\", \"Topic8\", \"Topic8\", \"Topic8\", \"Topic8\", \"Topic8\", \"Topic8\", \"Topic8\", \"Topic8\", \"Topic8\", \"Topic8\", \"Topic8\", \"Topic8\", \"Topic8\", \"Topic8\", \"Topic8\", \"Topic8\", \"Topic8\", \"Topic8\", \"Topic8\", \"Topic8\", \"Topic8\", \"Topic8\", \"Topic8\", \"Topic8\", \"Topic9\", \"Topic9\", \"Topic9\", \"Topic9\", \"Topic9\", \"Topic9\", \"Topic9\", \"Topic9\", \"Topic9\", \"Topic9\", \"Topic9\", \"Topic9\", \"Topic9\", \"Topic9\", \"Topic9\", \"Topic9\", \"Topic9\", \"Topic9\", \"Topic9\", \"Topic9\", \"Topic9\", \"Topic9\", \"Topic9\", \"Topic9\", \"Topic9\", \"Topic9\", \"Topic9\", \"Topic9\", \"Topic9\", \"Topic9\", \"Topic9\", \"Topic9\", \"Topic9\", \"Topic9\", \"Topic9\", \"Topic9\", \"Topic9\", \"Topic9\", \"Topic9\", \"Topic9\", \"Topic9\", \"Topic9\", \"Topic9\", \"Topic9\", \"Topic9\", \"Topic9\", \"Topic9\", \"Topic9\", \"Topic9\", \"Topic9\"], \"logprob\": [30.0, 29.0, 28.0, 27.0, 26.0, 25.0, 24.0, 23.0, 22.0, 21.0, 20.0, 19.0, 18.0, 17.0, 16.0, 15.0, 14.0, 13.0, 12.0, 11.0, 10.0, 9.0, 8.0, 7.0, 6.0, 5.0, 4.0, 3.0, 2.0, 1.0, -3.0243, -3.0243, -3.0244, -3.6661, -3.6661, -3.6661, -3.6662, -3.6662, -3.6662, -3.6662, -3.6662, -3.6662, -3.6662, -3.6662, -3.6662, -3.6662, -3.6662, -3.6662, -3.6662, -3.6662, -3.6662, -3.6663, -3.6663, -3.6664, -3.6663, -3.6662, -3.6662, -3.6662, -5.9682, -5.9682, -5.9676, -5.9676, -2.9278, -2.9278, -3.5695, -3.5696, -3.5696, -3.5696, -3.5696, -3.5696, -3.5696, -3.5696, -3.5696, -3.5696, -3.5696, -3.5696, -3.5696, -3.5697, -3.5698, -3.5698, -3.5696, -3.5696, -3.5696, -3.5696, -3.5698, -3.5696, -3.5696, -5.8716, -5.8717, -5.8717, -5.8717, -5.8719, -5.8709, -5.8715, -5.8716, -5.8716, -5.8716, -3.3742, -3.3742, -3.3742, -3.3742, -3.3742, -3.3742, -3.3742, -3.3742, -3.3743, -3.3743, -3.3743, -3.3743, -3.3743, -3.3744, -3.3744, -2.7325, -3.3742, -3.3742, -3.3742, -5.6763, -5.6764, -5.6764, -5.6764, -5.6766, -5.6766, -5.6766, -5.6765, -5.6765, -5.6765, -5.6762, -5.6755, -5.6762, -5.6762, -5.6763, -5.6763, -5.6763, -5.6763, -5.6763, -3.1312, -3.1312, -3.1312, -3.1312, -3.1312, -3.1312, -3.1312, -3.1312, -3.1314, -3.1321, -3.1313, -3.1312, -3.1313, -5.4332, -5.4333, -5.4334, -5.4335, -5.4335, -5.4335, -5.4336, -5.4334, -5.4335, -5.4335, -5.4333, -5.4333, -5.4333, -5.4334, -5.4335, -5.4335, -5.4335, -5.4329, -5.4332, -5.4333, -5.4333, -5.4333, -5.4334, -5.4334, -5.4334, -5.4334, -5.4334, -5.4334, -3.0911, -3.0912, -3.0912, -3.0912, -3.0912, -3.0912, -3.0912, -3.0912, -3.0912, -3.0913, -3.0913, -3.0914, -5.3931, -5.3931, -5.3933, -5.3933, -5.3935, -5.3935, -5.3935, -5.3933, -5.3934, -5.3934, -5.3932, -5.3933, -5.3933, -5.3934, -5.3934, -5.3934, -5.3935, -5.3935, -5.3924, -5.3929, -5.3931, -5.3932, -5.3932, -5.3933, -5.3933, -5.3933, -5.3933, -5.3933, -5.3933, -3.1312, -3.1313, -3.1313, -3.1313, -3.1313, -3.1313, -3.1313, -3.1314, -3.1315, -3.1315, -3.1315, -3.1312, -3.1312, -5.4333, -5.4333, -5.4333, -5.4333, -5.4335, -5.4335, -5.4336, -5.4334, -5.4334, -5.4335, -5.4327, -5.4334, -5.4335, -5.4335, -5.4336, -5.4336, -5.4336, -5.4336, -5.4334, -5.4334, -5.4335, -5.4329, -5.433, -5.4332, -5.4333, -5.4333, -5.4333, -5.4333, -5.4333, -5.4334, -5.4334, -5.4334, -2.8624, -2.8625, -2.8625, -2.8624, -2.8624, -2.8624, -2.8624, -5.1643, -5.1644, -5.1644, -5.1645, -5.1647, -5.1647, -5.1647, -5.1644, -5.1645, -5.1645, -5.1645, -5.1646, -5.1646, -5.1646, -5.1647, -5.1647, -5.1647, -5.1647, -5.1637, -5.1646, -5.1647, -5.1647, -5.1647, -5.1645, -5.1646, -5.1646, -5.1641, -5.1642, -5.1644, -5.1644, -5.1644, -5.1644, -5.1644, -5.1645, -5.1645, -5.1645, -5.1646, -5.1646, -2.7539, -2.7539, -2.7539, -2.7539, -2.7538, -5.0558, -5.0559, -5.0561, -5.0561, -5.0561, -5.0561, -5.0562, -5.0559, -5.0559, -5.056, -5.056, -5.0561, -5.0561, -5.0561, -5.0562, -5.0562, -5.0562, -5.0562, -5.055, -5.0561, -5.0562, -5.0562, -5.0562, -5.0563, -5.0563, -5.0561, -5.0561, -5.0562, -5.0558, -5.0559, -5.0559, -5.056, -5.056, -5.056, -5.056, -5.056, -5.056, -5.056, -5.056, -5.056, -5.0561, -5.0561, -2.695, -2.695, -2.695, -2.6951, -4.9971, -4.9971, -4.9971, -4.997, -4.997, -4.9971, -4.9967, -4.9968, -4.9969, -4.9969, -4.997, -4.9971, -4.9971, -4.9971, -4.9971, -4.9971, -4.9971, -4.9963, -4.9971, -4.9971, -4.9971, -4.9971, -4.9972, -4.9972, -4.9972, -4.9972, -4.997, -4.997, -4.9971, -4.9966, -4.9967, -4.9968, -4.9968, -4.9968, -4.9969, -4.9969, -4.9969, -4.9969, -4.9969, -4.997, -4.997, -4.997, -4.997, -4.997, -4.997, -4.997], \"loglift\": [30.0, 29.0, 28.0, 27.0, 26.0, 25.0, 24.0, 23.0, 22.0, 21.0, 20.0, 19.0, 18.0, 17.0, 16.0, 15.0, 14.0, 13.0, 12.0, 11.0, 10.0, 9.0, 8.0, 7.0, 6.0, 5.0, 4.0, 3.0, 2.0, 1.0, 1.2728, 1.2728, 1.2727, 1.0751, 1.0751, 1.0751, 1.0751, 1.0751, 1.0751, 1.0751, 1.0751, 1.0751, 1.0751, 1.0751, 1.0751, 1.0751, 1.0751, 1.0751, 1.075, 1.075, 1.075, 1.075, 1.075, 1.0749, 0.7846, 0.6983, 0.6394, 0.6393, -0.8972, -0.8972, -2.101, -1.1192, 1.3864, 1.3863, 1.185, 1.185, 1.185, 1.185, 1.185, 1.185, 1.185, 1.1849, 1.1849, 1.1849, 1.1849, 1.1849, 1.1849, 1.1849, 1.1848, 1.1848, 0.8225, 0.8224, 0.8039, 0.736, 0.7358, 0.5816, 0.2969, -0.8006, -0.8006, -0.8007, -0.8007, -0.8792, -1.0225, -1.4207, -0.9933, -0.9933, -0.9933, 1.3893, 1.3893, 1.3893, 1.3893, 1.3893, 1.3893, 1.3893, 1.3893, 1.3893, 1.3892, 1.3892, 1.3892, 1.3892, 1.3892, 1.3892, 1.134, 1.0762, 1.0762, 1.0762, -0.6052, -0.6053, -0.6053, -0.6053, -0.6839, -0.6839, -0.684, -0.7125, -0.7125, -0.7125, -0.7979, -0.8271, -1.3706, -1.5251, -0.8305, -1.2254, -0.798, -1.3708, -0.798, 1.7172, 1.7172, 1.7172, 1.7171, 1.7171, 1.7171, 1.7171, 1.7171, 1.717, 1.7163, 1.2422, 1.2332, 1.0199, -0.3621, -0.3623, -0.3623, -0.3624, -0.4408, -0.4409, -0.4409, -0.4694, -0.4695, -0.4695, -0.5549, -0.5549, -0.555, -0.5551, -0.5552, -0.5552, -0.5552, -1.5664, -1.1276, -0.5875, -0.9824, -0.692, -1.1192, -1.1363, -1.1192, -1.1278, -1.0413, -0.6788, 1.7546, 1.7546, 1.7546, 1.7546, 1.7546, 1.7546, 1.7546, 1.7546, 1.7546, 1.7545, 1.7545, 1.7544, -0.3221, -0.3221, -0.3222, -0.3222, -0.4008, -0.4009, -0.4009, -0.4294, -0.4294, -0.4295, -0.5149, -0.515, -0.515, -0.5151, -0.5151, -0.5151, -0.5151, -0.5151, -0.5441, -1.5264, -1.0876, -0.6386, -0.9424, -1.2421, -1.0877, -1.0792, -0.9429, -1.0963, -1.0792, 1.7471, 1.7471, 1.7471, 1.7471, 1.7471, 1.747, 1.747, 1.7469, 1.7469, 1.7469, 1.7469, 1.2608, 1.2608, -0.3622, -0.3622, -0.3623, -0.3623, -0.4408, -0.4409, -0.4409, -0.4695, -0.4695, -0.4695, -0.5843, -0.585, -0.5852, -0.5852, -0.5852, -0.5852, -0.5852, -0.5852, -0.5876, -0.5876, -0.5877, -1.1274, -1.5665, -0.6919, -1.2821, -0.6787, -0.9824, -1.0598, -1.1278, -1.1363, -0.6921, -0.6921, 2.1015, 2.1015, 2.1015, 1.588, 1.588, 1.5879, 1.2888, -0.0933, -0.0934, -0.0934, -0.0935, -0.172, -0.1721, -0.1721, -0.2861, -0.2861, -0.2861, -0.2862, -0.2863, -0.2863, -0.2863, -0.2863, -0.2863, -0.2864, -0.2864, -0.3153, -0.3162, -0.3163, -0.3164, -0.3164, -0.3188, -0.3188, -0.3189, -1.2975, -0.8586, -0.8502, -0.7135, -0.4098, -0.8674, -0.4231, -0.8589, -0.4099, -0.7725, -0.7911, -0.4233, 2.2388, 2.2388, 2.2388, 1.697, 1.1127, 0.0152, 0.0151, 0.015, 0.0149, -0.0921, -0.0921, -0.0922, -0.1775, -0.1776, -0.1776, -0.1777, -0.1778, -0.1778, -0.1778, -0.1778, -0.1778, -0.1779, -0.1779, -0.2066, -0.2077, -0.2079, -0.2079, -0.2079, -0.2079, -0.2079, -0.2103, -0.2103, -0.2104, -0.7503, -0.9047, -0.7418, -0.7419, -0.6825, -0.7504, -0.3147, -0.3147, -0.759, -0.3147, -0.3015, -0.664, -0.3015, -0.2925, 2.3761, 2.3761, 2.376, 2.376, -0.0045, -0.0045, -0.0045, -0.033, -0.033, -0.0331, -0.1184, -0.1184, -0.1185, -0.1186, -0.1187, -0.1187, -0.1188, -0.1188, -0.1188, -0.1188, -0.1188, -0.1479, -0.1487, -0.1488, -0.1488, -0.1488, -0.1488, -0.1488, -0.1488, -0.1488, -0.1512, -0.1512, -0.1513, -1.1301, -0.6911, -0.5459, -0.8457, -0.6827, -0.2423, -0.2423, -0.2556, -0.2556, -0.6914, -0.6235, -0.2557, -0.5466, -0.6999, -0.5466, -0.6829, -0.2335]}, \"token.table\": {\"Topic\": [2, 6, 3, 6, 6, 6, 2, 3, 5, 3, 1, 2, 3, 4, 3, 3, 2, 3, 3, 2, 6, 5, 2, 4, 6, 4, 2, 2, 4, 1, 3, 2, 3, 1, 2, 4, 4, 5, 5, 6, 1, 2, 2, 1, 4, 1, 1, 6, 2, 5, 5, 5, 1, 4, 3, 1, 6, 1, 2, 1, 1, 1, 5, 1, 6, 1, 1, 1, 3, 2, 3, 1, 6, 6, 2, 4, 1, 1, 3, 4, 2, 5, 2, 4, 1, 4, 3, 1, 5, 2, 6, 2, 3, 5, 5, 1, 2, 1, 3, 2, 4, 3, 1, 2, 3, 1, 1, 2, 1, 2], \"Freq\": [0.6121476257708421, 0.6121476257708421, 0.6489392873714134, 0.9955369082072513, 0.9955374967113207, 0.995538066116054, 0.3619384908390249, 0.3619384908390249, 0.9636582913152033, 0.8875737415589358, 0.8680369681039987, 0.8796574643503328, 0.8875638496143723, 0.9661471235190233, 0.8875558941070266, 0.8875563743091774, 0.879642938163136, 0.8875581888197736, 0.6489354629241268, 0.879635449009047, 0.9955361987659488, 0.963651841141777, 0.8796409984374723, 0.9661485145141827, 0.9955374802575443, 0.9661472480248706, 0.8796342635469084, 0.600911470943627, 0.600911470943627, 0.8680335916438002, 0.8875543487821101, 0.8796300785063742, 0.8875604653572329, 0.8680365124870036, 0.8796576952576602, 0.9661579650255042, 0.9661515254475199, 0.9636526052383636, 0.9636537533845977, 0.9955430813533648, 0.8680312071327057, 0.8796256882801522, 0.8796269820939211, 0.5954737905884895, 0.5954737905884895, 0.8680345155255146, 0.868036383892632, 0.9955382363887465, 0.8796366920806942, 0.9636504539195083, 0.9636621508035034, 0.9636532214420189, 0.8680287097976355, 0.9661805069741312, 0.8875574954200481, 0.8680639505290026, 0.9955376290445557, 0.5614455459952609, 0.5614455459952609, 0.868041321835062, 0.8680405018149964, 0.868042282562262, 0.9636511211786785, 0.8680314662487177, 0.9955352998930717, 0.556686478647445, 0.8680394160812982, 0.8680341973131033, 0.8875572483742353, 0.8796433106002629, 0.88755773939748, 0.8680264792282314, 0.9955402954908239, 0.9955367209775604, 0.879634127051786, 0.9661484204473819, 0.8680418297461205, 0.8680525762819088, 0.6489376532646083, 0.9661489741400233, 0.879634091179502, 0.9636547313582504, 0.8796368916999913, 0.966152516099785, 0.8680401739290923, 0.966147972324306, 0.8875739320421806, 0.8680504534434142, 0.9636546409940261, 0.6121516593563399, 0.6121516593563399, 0.8796331211697546, 0.8875685564177956, 0.9636543506803678, 0.9636552761188303, 0.5614553349218027, 0.5614553349218027, 0.8680267463852842, 0.8875714678336444, 0.4811328943794246, 0.4811328943794246, 0.8875572371238235, 0.8680321175397133, 0.8796397252083953, 0.8875624194351321, 0.6492582117888466, 0.5566978786846417, 0.5662709982268288, 0.5566886154358026, 0.5662766374969509], \"Term\": [\"%\", \"%\", \"-\", \"act^\", \"affordable\", \"alcohol\", \"ballot\", \"ballot\", \"basis\", \"box\", \"building\", \"campaign\", \"can\", \"care\", \"chris\", \"claim\", \"college\", \"com\", \"condition\", \"counting\", \"dependent\", \"double\", \"dreamer\", \"driver\", \"drug\", \"earnings^\", \"economic\", \"election\", \"election\", \"essential\", \"existing\", \"expert\", \"factchecks/2020\", \"family\", \"fence\", \"first\", \"flexible\", \"flip\", \"flopping^\", \"folk\", \"free\", \"great\", \"growth\", \"health\", \"health\", \"hour\", \"hungry\", \"important\", \"inappropriate^\", \"incompetent^\", \"inheritance\", \"insincere^\", \"insurance^\", \"interview\", \"jacob\", \"kid\", \"laptop\", \"law\", \"law\", \"license\", \"looter\", \"low\", \"lying^\", \"majority\", \"meeting\", \"minimum\", \"mother\", \"much\", \"need\", \"number\", \"oct/30\", \"other\", \"pandemic\", \"people\", \"person\", \"personal\", \"photo\", \"plate\", \"pre\", \"protections^\", \"qualified\", \"radical\", \"result\", \"schedule\", \"school\", \"seat\", \"signature\", \"site\", \"socialist\", \"state\", \"state\", \"station\", \"suppress\", \"talking^\", \"taxis\", \"test\", \"test\", \"theft\", \"thing\", \"time\", \"time\", \"trash\", \"trump\", \"tv\", \"vote\", \"voting\", \"wage\", \"week\", \"worker\", \"year\"]}, \"R\": 30, \"lambda.step\": 0.01, \"plot.opts\": {\"xlab\": \"PC1\", \"ylab\": \"PC2\"}, \"topic.order\": [8, 2, 7, 9, 3, 1, 6, 5, 4]};\n",
       "\n",
       "function LDAvis_load_lib(url, callback){\n",
       "  var s = document.createElement('script');\n",
       "  s.src = url;\n",
       "  s.async = true;\n",
       "  s.onreadystatechange = s.onload = callback;\n",
       "  s.onerror = function(){console.warn(\"failed to load library \" + url);};\n",
       "  document.getElementsByTagName(\"head\")[0].appendChild(s);\n",
       "}\n",
       "\n",
       "if(typeof(LDAvis) !== \"undefined\"){\n",
       "   // already loaded: just create the visualization\n",
       "   !function(LDAvis){\n",
       "       new LDAvis(\"#\" + \"ldavis_el920821077676848963278618762\", ldavis_el920821077676848963278618762_data);\n",
       "   }(LDAvis);\n",
       "}else if(typeof define === \"function\" && define.amd){\n",
       "   // require.js is available: use it to load d3/LDAvis\n",
       "   require.config({paths: {d3: \"https://d3js.org/d3.v5\"}});\n",
       "   require([\"d3\"], function(d3){\n",
       "      window.d3 = d3;\n",
       "      LDAvis_load_lib(\"https://cdn.jsdelivr.net/gh/bmabey/pyLDAvis@3.2.2/pyLDAvis/js/ldavis.v3.0.0.js\", function(){\n",
       "        new LDAvis(\"#\" + \"ldavis_el920821077676848963278618762\", ldavis_el920821077676848963278618762_data);\n",
       "      });\n",
       "    });\n",
       "}else{\n",
       "    // require.js not available: dynamically load d3 & LDAvis\n",
       "    LDAvis_load_lib(\"https://d3js.org/d3.v5.js\", function(){\n",
       "         LDAvis_load_lib(\"https://cdn.jsdelivr.net/gh/bmabey/pyLDAvis@3.2.2/pyLDAvis/js/ldavis.v3.0.0.js\", function(){\n",
       "                 new LDAvis(\"#\" + \"ldavis_el920821077676848963278618762\", ldavis_el920821077676848963278618762_data);\n",
       "            })\n",
       "         });\n",
       "}\n",
       "</script>"
      ],
      "text/plain": [
       "PreparedData(topic_coordinates=              x         y  topics  cluster       Freq\n",
       "topic                                                \n",
       "7      0.197857 -0.016457       1        1  21.204797\n",
       "1     -0.067403  0.149429       2        1  18.798562\n",
       "6     -0.097953 -0.136986       3        1  15.213728\n",
       "8      0.003145  0.031114       4        1  10.164430\n",
       "2     -0.000102 -0.022507       5        1   9.815087\n",
       "0     -0.023184  0.043363       6        1   9.575206\n",
       "5     -0.026839 -0.033531       7        1   6.102991\n",
       "4      0.005355 -0.012388       8        1   5.130815\n",
       "3      0.009123 -0.002038       9        1   3.994383, topic_info=          Term      Freq     Total Category  logprob  loglift\n",
       "29      ballot  2.000000  2.000000  Default   30.000  30.0000\n",
       "6         time  2.000000  2.000000  Default   29.000  29.0000\n",
       "33      voting  1.000000  1.000000  Default   28.000  28.0000\n",
       "44         pre  1.000000  1.000000  Default   27.000  27.0000\n",
       "42           -  1.000000  1.000000  Default   26.000  26.0000\n",
       "..         ...       ...       ...      ...      ...      ...\n",
       "43   condition  0.035634  1.540985   Topic9   -4.997  -0.5466\n",
       "11        wage  0.035633  1.796306   Topic9   -4.997  -0.6999\n",
       "42           -  0.035633  1.540976   Topic9   -4.997  -0.5466\n",
       "38        week  0.035633  1.765939   Topic9   -4.997  -0.6829\n",
       "102  signature  0.035633  1.126667   Topic9   -4.997  -0.2335\n",
       "\n",
       "[404 rows x 6 columns], token_table=      Topic      Freq        Term\n",
       "term                             \n",
       "0         2  0.612148           %\n",
       "0         6  0.612148           %\n",
       "42        3  0.648939           -\n",
       "71        6  0.995537        act^\n",
       "72        6  0.995537  affordable\n",
       "...     ...       ...         ...\n",
       "33        1  0.649258      voting\n",
       "11        1  0.556698        wage\n",
       "38        2  0.566271        week\n",
       "12        1  0.556689      worker\n",
       "24        2  0.566277        year\n",
       "\n",
       "[110 rows x 3 columns], R=30, lambda_step=0.01, plot_opts={'xlab': 'PC1', 'ylab': 'PC2'}, topic_order=[8, 2, 7, 9, 3, 1, 6, 5, 4])"
      ]
     },
     "execution_count": 53,
     "metadata": {},
     "output_type": "execute_result"
    }
   ],
   "source": [
    "# Visualize the topics\n",
    "pyLDAvis.enable_notebook()\n",
    "vis = pyLDAvis.gensim.prepare(optimal_model, doc_term_matrix, dictionary)\n",
    "vis"
   ]
  },
  {
   "cell_type": "code",
   "execution_count": null,
   "metadata": {},
   "outputs": [],
   "source": []
  },
  {
   "cell_type": "code",
   "execution_count": null,
   "metadata": {},
   "outputs": [],
   "source": []
  }
 ],
 "metadata": {
  "kernelspec": {
   "display_name": "Python 3",
   "language": "python",
   "name": "python3"
  },
  "language_info": {
   "codemirror_mode": {
    "name": "ipython",
    "version": 3
   },
   "file_extension": ".py",
   "mimetype": "text/x-python",
   "name": "python",
   "nbconvert_exporter": "python",
   "pygments_lexer": "ipython3",
   "version": "3.8.8"
  }
 },
 "nbformat": 4,
 "nbformat_minor": 4
}
